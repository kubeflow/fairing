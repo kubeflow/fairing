{
 "cells": [
  {
   "cell_type": "markdown",
   "metadata": {},
   "source": [
    "# Train and deploy on Kubeflow from Notebooks\n",
    "\n",
    "This notebook introduces you to using Kubeflow Fairing to train and deploy a model to Kubeflow on multiple backends such as Google Kubernetes Engine (GKE), Google Cloud ML Engine and Azure Kubernetes Service (AKS). This notebook demonstrate how to:\n",
    " \n",
    "* Train an XGBoost model in a local notebook,\n",
    "* Use Kubeflow Fairing to train an XGBoost model remotely on Kubeflow using some of the supported backends,\n",
    "* Use Kubeflow Fairing to deploy a trained model to Kubeflow, and\n",
    "* Call the deployed endpoint for predictions.\n",
    "\n",
    "To learn more about how to run this notebook locally, see the guide to [training and deploying on GCP from a local notebook][gcp-local-notebook].\n",
    "\n",
    "[gcp-local-notebook]: https://kubeflow.org/docs/fairing/gcp-local-notebook/"
   ]
  },
  {
   "cell_type": "markdown",
   "metadata": {},
   "source": [
    "## Set up your notebook for training an XGBoost model\n",
    "\n",
    "Import the libraries required to train this model."
   ]
  },
  {
   "cell_type": "code",
   "execution_count": 1,
   "metadata": {},
   "outputs": [
    {
     "name": "stdout",
     "output_type": "stream",
     "text": [
      "Requirement already satisfied: pandas in /home/coursera/anaconda3/envs/ksenv/lib/python3.6/site-packages (from -r requirements.txt (line 1)) (0.24.2)\n",
      "Requirement already satisfied: joblib in /home/coursera/anaconda3/envs/ksenv/lib/python3.6/site-packages (from -r requirements.txt (line 2)) (0.13.2)\n",
      "Requirement already satisfied: numpy in /home/coursera/anaconda3/envs/ksenv/lib/python3.6/site-packages (from -r requirements.txt (line 3)) (1.16.4)\n",
      "Requirement already satisfied: xgboost in /home/coursera/anaconda3/envs/ksenv/lib/python3.6/site-packages (from -r requirements.txt (line 4)) (0.90)\n",
      "Requirement already satisfied: scikit-learn>=0.21.0 in /home/coursera/anaconda3/envs/ksenv/lib/python3.6/site-packages (from -r requirements.txt (line 5)) (0.21.2)\n",
      "Requirement already satisfied: seldon-core in /home/coursera/anaconda3/envs/ksenv/lib/python3.6/site-packages (from -r requirements.txt (line 6)) (0.4.0)\n",
      "Requirement already satisfied: tornado>=6.0.3 in /home/coursera/anaconda3/envs/ksenv/lib/python3.6/site-packages (from -r requirements.txt (line 7)) (6.0.3)\n",
      "Requirement already satisfied: pytz>=2011k in /home/coursera/anaconda3/envs/ksenv/lib/python3.6/site-packages (from pandas->-r requirements.txt (line 1)) (2019.1)\n",
      "Requirement already satisfied: python-dateutil>=2.5.0 in /home/coursera/anaconda3/envs/ksenv/lib/python3.6/site-packages (from pandas->-r requirements.txt (line 1)) (2.8.0)\n",
      "Requirement already satisfied: scipy in /home/coursera/anaconda3/envs/ksenv/lib/python3.6/site-packages (from xgboost->-r requirements.txt (line 4)) (1.3.0)\n",
      "Requirement already satisfied: grpcio in /home/coursera/anaconda3/envs/ksenv/lib/python3.6/site-packages (from seldon-core->-r requirements.txt (line 6)) (1.22.0)\n",
      "Requirement already satisfied: tensorflow in /home/coursera/anaconda3/envs/ksenv/lib/python3.6/site-packages (from seldon-core->-r requirements.txt (line 6)) (1.14.0)\n",
      "Requirement already satisfied: pyyaml in /home/coursera/anaconda3/envs/ksenv/lib/python3.6/site-packages (from seldon-core->-r requirements.txt (line 6)) (5.1.1)\n",
      "Requirement already satisfied: flatbuffers in /home/coursera/anaconda3/envs/ksenv/lib/python3.6/site-packages (from seldon-core->-r requirements.txt (line 6)) (1.11)\n",
      "Requirement already satisfied: gunicorn>=19.9.0 in /home/coursera/anaconda3/envs/ksenv/lib/python3.6/site-packages (from seldon-core->-r requirements.txt (line 6)) (19.9.0)\n",
      "Requirement already satisfied: minio>=4.0.9 in /home/coursera/anaconda3/envs/ksenv/lib/python3.6/site-packages (from seldon-core->-r requirements.txt (line 6)) (4.0.21)\n",
      "Requirement already satisfied: requests in /home/coursera/anaconda3/envs/ksenv/lib/python3.6/site-packages (from seldon-core->-r requirements.txt (line 6)) (2.22.0)\n",
      "Requirement already satisfied: jaeger-client==3.13.0 in /home/coursera/anaconda3/envs/ksenv/lib/python3.6/site-packages (from seldon-core->-r requirements.txt (line 6)) (3.13.0)\n",
      "Requirement already satisfied: google-cloud-storage>=1.16.0 in /home/coursera/anaconda3/envs/ksenv/lib/python3.6/site-packages (from seldon-core->-r requirements.txt (line 6)) (1.16.1)\n",
      "Requirement already satisfied: opentracing<2,>=1.2.2 in /home/coursera/anaconda3/envs/ksenv/lib/python3.6/site-packages (from seldon-core->-r requirements.txt (line 6)) (1.3.0)\n",
      "Requirement already satisfied: azure-storage-blob>=2.0.1 in /home/coursera/anaconda3/envs/ksenv/lib/python3.6/site-packages (from seldon-core->-r requirements.txt (line 6)) (2.1.0)\n",
      "Requirement already satisfied: redis in /home/coursera/anaconda3/envs/ksenv/lib/python3.6/site-packages (from seldon-core->-r requirements.txt (line 6)) (3.3.8)\n",
      "Requirement already satisfied: protobuf in /home/coursera/anaconda3/envs/ksenv/lib/python3.6/site-packages (from seldon-core->-r requirements.txt (line 6)) (3.8.0)\n",
      "Requirement already satisfied: Flask-OpenTracing==0.2.0 in /home/coursera/anaconda3/envs/ksenv/lib/python3.6/site-packages (from seldon-core->-r requirements.txt (line 6)) (0.2.0)\n",
      "Requirement already satisfied: flask-cors in /home/coursera/anaconda3/envs/ksenv/lib/python3.6/site-packages (from seldon-core->-r requirements.txt (line 6)) (3.0.8)\n",
      "Requirement already satisfied: flask in /home/coursera/anaconda3/envs/ksenv/lib/python3.6/site-packages (from seldon-core->-r requirements.txt (line 6)) (1.1.1)\n",
      "Requirement already satisfied: grpcio-opentracing in /home/coursera/anaconda3/envs/ksenv/lib/python3.6/site-packages (from seldon-core->-r requirements.txt (line 6)) (1.1.4)\n",
      "Requirement already satisfied: six>=1.5 in /home/coursera/anaconda3/envs/ksenv/lib/python3.6/site-packages (from python-dateutil>=2.5.0->pandas->-r requirements.txt (line 1)) (1.12.0)\n",
      "Requirement already satisfied: astor>=0.6.0 in /home/coursera/anaconda3/envs/ksenv/lib/python3.6/site-packages (from tensorflow->seldon-core->-r requirements.txt (line 6)) (0.8.0)\n",
      "Requirement already satisfied: gast>=0.2.0 in /home/coursera/anaconda3/envs/ksenv/lib/python3.6/site-packages (from tensorflow->seldon-core->-r requirements.txt (line 6)) (0.2.2)\n",
      "Requirement already satisfied: keras-applications>=1.0.6 in /home/coursera/anaconda3/envs/ksenv/lib/python3.6/site-packages (from tensorflow->seldon-core->-r requirements.txt (line 6)) (1.0.8)\n",
      "Requirement already satisfied: wheel>=0.26 in /home/coursera/anaconda3/envs/ksenv/lib/python3.6/site-packages (from tensorflow->seldon-core->-r requirements.txt (line 6)) (0.29.0)\n",
      "Requirement already satisfied: termcolor>=1.1.0 in /home/coursera/anaconda3/envs/ksenv/lib/python3.6/site-packages (from tensorflow->seldon-core->-r requirements.txt (line 6)) (1.1.0)\n",
      "Requirement already satisfied: google-pasta>=0.1.6 in /home/coursera/anaconda3/envs/ksenv/lib/python3.6/site-packages (from tensorflow->seldon-core->-r requirements.txt (line 6)) (0.1.7)\n",
      "Requirement already satisfied: keras-preprocessing>=1.0.5 in /home/coursera/anaconda3/envs/ksenv/lib/python3.6/site-packages (from tensorflow->seldon-core->-r requirements.txt (line 6)) (1.1.0)\n",
      "Requirement already satisfied: tensorboard<1.15.0,>=1.14.0 in /home/coursera/anaconda3/envs/ksenv/lib/python3.6/site-packages (from tensorflow->seldon-core->-r requirements.txt (line 6)) (1.14.0)\n",
      "Requirement already satisfied: tensorflow-estimator<1.15.0rc0,>=1.14.0rc0 in /home/coursera/anaconda3/envs/ksenv/lib/python3.6/site-packages (from tensorflow->seldon-core->-r requirements.txt (line 6)) (1.14.0)\n",
      "Requirement already satisfied: absl-py>=0.7.0 in /home/coursera/anaconda3/envs/ksenv/lib/python3.6/site-packages (from tensorflow->seldon-core->-r requirements.txt (line 6)) (0.7.1)\n",
      "Requirement already satisfied: wrapt>=1.11.1 in /home/coursera/anaconda3/envs/ksenv/lib/python3.6/site-packages (from tensorflow->seldon-core->-r requirements.txt (line 6)) (1.11.2)\n",
      "Requirement already satisfied: future in /home/coursera/anaconda3/envs/ksenv/lib/python3.6/site-packages (from minio>=4.0.9->seldon-core->-r requirements.txt (line 6)) (0.17.1)\n",
      "Requirement already satisfied: urllib3 in /home/coursera/anaconda3/envs/ksenv/lib/python3.6/site-packages (from minio>=4.0.9->seldon-core->-r requirements.txt (line 6)) (1.24.2)\n",
      "Requirement already satisfied: certifi in /home/coursera/anaconda3/envs/ksenv/lib/python3.6/site-packages (from minio>=4.0.9->seldon-core->-r requirements.txt (line 6)) (2019.6.16)\n",
      "Requirement already satisfied: chardet<3.1.0,>=3.0.2 in /home/coursera/anaconda3/envs/ksenv/lib/python3.6/site-packages (from requests->seldon-core->-r requirements.txt (line 6)) (3.0.4)\n",
      "Requirement already satisfied: idna<2.9,>=2.5 in /home/coursera/anaconda3/envs/ksenv/lib/python3.6/site-packages (from requests->seldon-core->-r requirements.txt (line 6)) (2.8)\n",
      "Requirement already satisfied: thrift in /home/coursera/anaconda3/envs/ksenv/lib/python3.6/site-packages (from jaeger-client==3.13.0->seldon-core->-r requirements.txt (line 6)) (0.11.0)\n",
      "Requirement already satisfied: threadloop<2,>=1 in /home/coursera/anaconda3/envs/ksenv/lib/python3.6/site-packages (from jaeger-client==3.13.0->seldon-core->-r requirements.txt (line 6)) (1.0.2)\n",
      "Requirement already satisfied: google-cloud-core<2.0dev,>=1.0.0 in /home/coursera/anaconda3/envs/ksenv/lib/python3.6/site-packages (from google-cloud-storage>=1.16.0->seldon-core->-r requirements.txt (line 6)) (1.0.2)\n"
     ]
    },
    {
     "name": "stdout",
     "output_type": "stream",
     "text": [
      "Requirement already satisfied: google-resumable-media>=0.3.1 in /home/coursera/anaconda3/envs/ksenv/lib/python3.6/site-packages (from google-cloud-storage>=1.16.0->seldon-core->-r requirements.txt (line 6)) (0.3.2)\n",
      "Requirement already satisfied: google-auth>=1.2.0 in /home/coursera/anaconda3/envs/ksenv/lib/python3.6/site-packages (from google-cloud-storage>=1.16.0->seldon-core->-r requirements.txt (line 6)) (1.6.3)\n",
      "Requirement already satisfied: azure-common>=1.1.5 in /home/coursera/anaconda3/envs/ksenv/lib/python3.6/site-packages (from azure-storage-blob>=2.0.1->seldon-core->-r requirements.txt (line 6)) (1.1.23)\n",
      "Requirement already satisfied: azure-storage-common~=2.1 in /home/coursera/anaconda3/envs/ksenv/lib/python3.6/site-packages (from azure-storage-blob>=2.0.1->seldon-core->-r requirements.txt (line 6)) (2.1.0)\n",
      "Requirement already satisfied: setuptools in /home/coursera/anaconda3/envs/ksenv/lib/python3.6/site-packages (from protobuf->seldon-core->-r requirements.txt (line 6)) (36.4.0)\n",
      "Requirement already satisfied: itsdangerous>=0.24 in /home/coursera/anaconda3/envs/ksenv/lib/python3.6/site-packages (from flask->seldon-core->-r requirements.txt (line 6)) (1.1.0)\n",
      "Requirement already satisfied: Werkzeug>=0.15 in /home/coursera/anaconda3/envs/ksenv/lib/python3.6/site-packages (from flask->seldon-core->-r requirements.txt (line 6)) (0.15.4)\n",
      "Requirement already satisfied: Jinja2>=2.10.1 in /home/coursera/anaconda3/envs/ksenv/lib/python3.6/site-packages (from flask->seldon-core->-r requirements.txt (line 6)) (2.10.1)\n",
      "Requirement already satisfied: click>=5.1 in /home/coursera/anaconda3/envs/ksenv/lib/python3.6/site-packages (from flask->seldon-core->-r requirements.txt (line 6)) (7.0)\n",
      "Requirement already satisfied: h5py in /home/coursera/anaconda3/envs/ksenv/lib/python3.6/site-packages (from keras-applications>=1.0.6->tensorflow->seldon-core->-r requirements.txt (line 6)) (2.9.0)\n",
      "Requirement already satisfied: markdown>=2.6.8 in /home/coursera/anaconda3/envs/ksenv/lib/python3.6/site-packages (from tensorboard<1.15.0,>=1.14.0->tensorflow->seldon-core->-r requirements.txt (line 6)) (3.1.1)\n",
      "Requirement already satisfied: google-api-core<2.0.0dev,>=1.11.0 in /home/coursera/anaconda3/envs/ksenv/lib/python3.6/site-packages (from google-cloud-core<2.0dev,>=1.0.0->google-cloud-storage>=1.16.0->seldon-core->-r requirements.txt (line 6)) (1.13.0)\n",
      "Requirement already satisfied: cachetools>=2.0.0 in /home/coursera/anaconda3/envs/ksenv/lib/python3.6/site-packages (from google-auth>=1.2.0->google-cloud-storage>=1.16.0->seldon-core->-r requirements.txt (line 6)) (3.1.1)\n",
      "Requirement already satisfied: pyasn1-modules>=0.2.1 in /home/coursera/anaconda3/envs/ksenv/lib/python3.6/site-packages (from google-auth>=1.2.0->google-cloud-storage>=1.16.0->seldon-core->-r requirements.txt (line 6)) (0.2.5)\n",
      "Requirement already satisfied: rsa>=3.1.4 in /home/coursera/anaconda3/envs/ksenv/lib/python3.6/site-packages (from google-auth>=1.2.0->google-cloud-storage>=1.16.0->seldon-core->-r requirements.txt (line 6)) (4.0)\n",
      "Requirement already satisfied: cryptography in /home/coursera/anaconda3/envs/ksenv/lib/python3.6/site-packages (from azure-storage-common~=2.1->azure-storage-blob>=2.0.1->seldon-core->-r requirements.txt (line 6)) (2.7)\n",
      "Requirement already satisfied: MarkupSafe>=0.23 in /home/coursera/anaconda3/envs/ksenv/lib/python3.6/site-packages (from Jinja2>=2.10.1->flask->seldon-core->-r requirements.txt (line 6)) (1.1.1)\n",
      "Requirement already satisfied: googleapis-common-protos!=1.5.4,<2.0dev,>=1.5.3 in /home/coursera/anaconda3/envs/ksenv/lib/python3.6/site-packages (from google-api-core<2.0.0dev,>=1.11.0->google-cloud-core<2.0dev,>=1.0.0->google-cloud-storage>=1.16.0->seldon-core->-r requirements.txt (line 6)) (1.6.0)\n",
      "Requirement already satisfied: pyasn1<0.5.0,>=0.4.1 in /home/coursera/anaconda3/envs/ksenv/lib/python3.6/site-packages (from pyasn1-modules>=0.2.1->google-auth>=1.2.0->google-cloud-storage>=1.16.0->seldon-core->-r requirements.txt (line 6)) (0.4.5)\n",
      "Requirement already satisfied: cffi!=1.11.3,>=1.8 in /home/coursera/anaconda3/envs/ksenv/lib/python3.6/site-packages (from cryptography->azure-storage-common~=2.1->azure-storage-blob>=2.0.1->seldon-core->-r requirements.txt (line 6)) (1.12.3)\n",
      "Requirement already satisfied: asn1crypto>=0.21.0 in /home/coursera/anaconda3/envs/ksenv/lib/python3.6/site-packages (from cryptography->azure-storage-common~=2.1->azure-storage-blob>=2.0.1->seldon-core->-r requirements.txt (line 6)) (0.24.0)\n",
      "Requirement already satisfied: pycparser in /home/coursera/anaconda3/envs/ksenv/lib/python3.6/site-packages (from cffi!=1.11.3,>=1.8->cryptography->azure-storage-common~=2.1->azure-storage-blob>=2.0.1->seldon-core->-r requirements.txt (line 6)) (2.19)\n",
      "\u001b[33mWARNING: You are using pip version 19.1.1, however version 19.2.3 is available.\n",
      "You should consider upgrading via the 'pip install --upgrade pip' command.\u001b[0m\n"
     ]
    }
   ],
   "source": [
    "!pip install -r requirements.txt"
   ]
  },
  {
   "cell_type": "code",
   "execution_count": 2,
   "metadata": {},
   "outputs": [],
   "source": [
    "import argparse\n",
    "import logging\n",
    "import joblib\n",
    "import sys\n",
    "import pandas as pd\n",
    "from sklearn.metrics import mean_absolute_error\n",
    "from sklearn.model_selection import train_test_split\n",
    "from sklearn.impute import SimpleImputer\n",
    "from xgboost import XGBRegressor"
   ]
  },
  {
   "cell_type": "code",
   "execution_count": 3,
   "metadata": {},
   "outputs": [],
   "source": [
    "logging.basicConfig(format='%(message)s')\n",
    "logging.getLogger().setLevel(logging.INFO)"
   ]
  },
  {
   "cell_type": "markdown",
   "metadata": {},
   "source": [
    "Define a function to split the input file into training and testing datasets."
   ]
  },
  {
   "cell_type": "code",
   "execution_count": 4,
   "metadata": {},
   "outputs": [],
   "source": [
    "def read_input(file_name, test_size=0.25):\n",
    "    \"\"\"Read input data and split it into train and test.\"\"\"\n",
    "    data = pd.read_csv(file_name)\n",
    "    data.dropna(axis=0, subset=['SalePrice'], inplace=True)\n",
    "\n",
    "    y = data.SalePrice\n",
    "    X = data.drop(['SalePrice'], axis=1).select_dtypes(exclude=['object'])\n",
    "\n",
    "    train_X, test_X, train_y, test_y = train_test_split(X.values,\n",
    "                                                      y.values,\n",
    "                                                      test_size=test_size,\n",
    "                                                      shuffle=False)\n",
    "\n",
    "    imputer = SimpleImputer()\n",
    "    train_X = imputer.fit_transform(train_X)\n",
    "    test_X = imputer.transform(test_X)\n",
    "\n",
    "    return (train_X, train_y), (test_X, test_y)"
   ]
  },
  {
   "cell_type": "markdown",
   "metadata": {},
   "source": [
    "Define functions to train, evaluate, and save the trained model."
   ]
  },
  {
   "cell_type": "code",
   "execution_count": 5,
   "metadata": {},
   "outputs": [],
   "source": [
    "def train_model(train_X,\n",
    "                train_y,\n",
    "                test_X,\n",
    "                test_y,\n",
    "                n_estimators,\n",
    "                learning_rate):\n",
    "    \"\"\"Train the model using XGBRegressor.\"\"\"\n",
    "    model = XGBRegressor(n_estimators=n_estimators, learning_rate=learning_rate)\n",
    "\n",
    "    model.fit(train_X,\n",
    "            train_y,\n",
    "            early_stopping_rounds=40,\n",
    "            eval_set=[(test_X, test_y)])\n",
    "\n",
    "    print(\"Best RMSE on eval: %.2f with %d rounds\" %\n",
    "               (model.best_score,\n",
    "                model.best_iteration+1))\n",
    "    return model\n",
    "\n",
    "def eval_model(model, test_X, test_y):\n",
    "    \"\"\"Evaluate the model performance.\"\"\"\n",
    "    predictions = model.predict(test_X)\n",
    "    logging.info(\"mean_absolute_error=%.2f\", mean_absolute_error(predictions, test_y))\n",
    "\n",
    "def save_model(model, model_file):\n",
    "    \"\"\"Save XGBoost model for serving.\"\"\"\n",
    "    joblib.dump(model, model_file)\n",
    "    logging.info(\"Model export success: %s\", model_file)"
   ]
  },
  {
   "cell_type": "markdown",
   "metadata": {},
   "source": [
    "Define a class for your model, with methods for training and prediction."
   ]
  },
  {
   "cell_type": "code",
   "execution_count": 6,
   "metadata": {},
   "outputs": [],
   "source": [
    "class HousingServe(object):\n",
    "    \n",
    "    def __init__(self):\n",
    "        self.train_input = \"ames_dataset/train.csv\"\n",
    "        self.n_estimators = 50\n",
    "        self.learning_rate = 0.1\n",
    "        self.model_file = \"trained_ames_model.dat\"\n",
    "        self.model = None\n",
    "\n",
    "    def train(self):\n",
    "        (train_X, train_y), (test_X, test_y) = read_input(self.train_input)\n",
    "        model = train_model(train_X,\n",
    "                          train_y,\n",
    "                          test_X,\n",
    "                          test_y,\n",
    "                          self.n_estimators,\n",
    "                          self.learning_rate)\n",
    "\n",
    "        eval_model(model, test_X, test_y)\n",
    "        save_model(model, self.model_file)\n",
    "\n",
    "    def predict(self, X, feature_names=None):\n",
    "        \"\"\"Predict using the model for given ndarray.\"\"\"\n",
    "        if not self.model:\n",
    "            self.model = joblib.load(self.model_file)\n",
    "        # Do any preprocessing\n",
    "        prediction = self.model.predict(data=X)\n",
    "        # Do any postprocessing\n",
    "        return prediction"
   ]
  },
  {
   "cell_type": "markdown",
   "metadata": {},
   "source": [
    "## Train an XGBoost model in a notebook\n",
    "\n",
    "Call `HousingServe().train()` to train your model, and then evaluate and save your trained model."
   ]
  },
  {
   "cell_type": "code",
   "execution_count": 7,
   "metadata": {},
   "outputs": [
    {
     "name": "stdout",
     "output_type": "stream",
     "text": [
      "[12:12:30] WARNING: /workspace/src/objective/regression_obj.cu:152: reg:linear is now deprecated in favor of reg:squarederror.\n",
      "[0]\tvalidation_0-rmse:177514\n",
      "Will train until validation_0-rmse hasn't improved in 40 rounds.\n",
      "[1]\tvalidation_0-rmse:161858\n",
      "[2]\tvalidation_0-rmse:147237\n",
      "[3]\tvalidation_0-rmse:134132\n",
      "[4]\tvalidation_0-rmse:122224\n",
      "[5]\tvalidation_0-rmse:111538\n",
      "[6]\tvalidation_0-rmse:102142\n",
      "[7]\tvalidation_0-rmse:93392.3\n",
      "[8]\tvalidation_0-rmse:85824.6\n",
      "[9]\tvalidation_0-rmse:79667.6\n",
      "[10]\tvalidation_0-rmse:73463.4\n",
      "[11]\tvalidation_0-rmse:68059.4\n",
      "[12]\tvalidation_0-rmse:63350.5\n",
      "[13]\tvalidation_0-rmse:59732.1\n",
      "[14]\tvalidation_0-rmse:56260.7\n",
      "[15]\tvalidation_0-rmse:53392.6\n",
      "[16]\tvalidation_0-rmse:50770.8\n",
      "[17]\tvalidation_0-rmse:48107.8\n",
      "[18]\tvalidation_0-rmse:45923.9\n",
      "[19]\tvalidation_0-rmse:44154.2\n",
      "[20]\tvalidation_0-rmse:42488.1\n",
      "[21]\tvalidation_0-rmse:41263.3\n",
      "[22]\tvalidation_0-rmse:40212.8\n",
      "[23]\tvalidation_0-rmse:39089.1\n",
      "[24]\tvalidation_0-rmse:37691.1\n",
      "[25]\tvalidation_0-rmse:36875.2\n",
      "[26]\tvalidation_0-rmse:36276.2\n",
      "[27]\tvalidation_0-rmse:35444.1\n",
      "[28]\tvalidation_0-rmse:34831.5\n",
      "[29]\tvalidation_0-rmse:34205.4\n",
      "[30]\tvalidation_0-rmse:33831.9\n",
      "[31]\tvalidation_0-rmse:33183.6\n",
      "[32]\tvalidation_0-rmse:33019.4\n",
      "[33]\tvalidation_0-rmse:32680\n",
      "[34]\tvalidation_0-rmse:32438.5\n",
      "[35]\tvalidation_0-rmse:32130.4\n",
      "[36]\tvalidation_0-rmse:31644.2\n",
      "[37]\tvalidation_0-rmse:31248.9\n",
      "[38]\tvalidation_0-rmse:31059.8\n",
      "[39]\tvalidation_0-rmse:30862.4\n",
      "[40]\tvalidation_0-rmse:30754\n",
      "[41]\tvalidation_0-rmse:30561.6\n",
      "[42]\tvalidation_0-rmse:30416.9\n",
      "[43]\tvalidation_0-rmse:30156.4\n",
      "[44]\tvalidation_0-rmse:29852.9\n",
      "[45]\tvalidation_0-rmse:29486.6\n",
      "[46]\tvalidation_0-rmse:29158.8\n",
      "[47]\tvalidation_0-rmse:29017\n",
      "[48]\tvalidation_0-rmse:28973.9\n",
      "[49]\tvalidation_0-rmse:28787.7\n",
      "Best RMSE on eval: 28787.72 with 50 rounds\n"
     ]
    },
    {
     "name": "stderr",
     "output_type": "stream",
     "text": [
      "mean_absolute_error=18173.15\n",
      "Model export success: trained_ames_model.dat\n"
     ]
    }
   ],
   "source": [
    "HousingServe().train()"
   ]
  },
  {
   "cell_type": "markdown",
   "metadata": {},
   "source": [
    "## Set up Kubeflow Fairing for training and predictions\n",
    "\n",
    "Import the `fairing` library and configure the backend environment that your training or prediction job will run in."
   ]
  },
  {
   "cell_type": "code",
   "execution_count": 8,
   "metadata": {
    "tags": [
     "parameters"
    ]
   },
   "outputs": [],
   "source": [
    "import fairing\n",
    "\n",
    "# Default to using the GKE backend.\n",
    "FAIRING_BACKEND = 'KubeflowGKEBackend'\n",
    "\n",
    "# If using KubeflowAzureBackend and unless passed to notebook as parameters,\n",
    "# replace below with your configuration (remove < and > characters).\n",
    "DOCKER_REGISTRY = '<your_registry>.azurecr.io'\n",
    "AZURE_REGION = '<your_region>'\n",
    "AZURE_RESOURCE_GROUP = '<your_resource_group>'\n",
    "AZURE_STORAGE_ACCOUNT = '<your_storage_account>'\n",
    "\n",
    "POD_SPEC_MUTATORS = None\n",
    "FAIRING_BACKEND = 'KubernetesBackend'"
   ]
  },
  {
   "cell_type": "code",
   "execution_count": 9,
   "metadata": {},
   "outputs": [],
   "source": [
    "import importlib\n",
    "\n",
    "# The logic in this cell demonstrates what to change\n",
    "# if wanting to use a different backend such as Cloud ML Engine (GCPManagedBackend) or\n",
    "# AKS (KubeflowAzureBackend). This cell is also parametrized so that it allows programmatic\n",
    "# execution of the notebook using different backends.\n",
    "\n",
    "if FAIRING_BACKEND in ['KubeflowGKEBackend', 'GCPManagedBackend']:\n",
    "    # Setting up google container repositories (GCR) for storing output containers\n",
    "    GCP_PROJECT = fairing.cloud.gcp.guess_project_name()\n",
    "    DOCKER_REGISTRY = 'gcr.io/{}/fairing-job'.format(GCP_PROJECT)\n",
    "    BuildContext = None\n",
    "if FAIRING_BACKEND == 'KubeflowAzureBackend':\n",
    "    from fairing.builders.cluster.azurestorage_context import StorageContextSource\n",
    "    BuildContext = StorageContextSource(\n",
    "        region=AZURE_REGION, resource_group_name=AZURE_RESOURCE_GROUP,\n",
    "        storage_account_name=AZURE_STORAGE_ACCOUNT\n",
    "    )\n",
    "if FAIRING_BACKEND == 'KubernetesBackend':\n",
    "    DOCKER_REGISTRY = '<your_private_registry>'\n",
    "    GCP_PROJECT = fairing.cloud.gcp.guess_project_name()\n",
    "    DOCKER_REGISTRY = 'gcr.io/{}/fairing-job'.format(GCP_PROJECT)\n",
    "    pod_spec_mutators=[fairing.cloud.docker.add_docker_credentials_if_exists]\n",
    "    BuildContext = None\n",
    "    \n",
    "BackendClass = getattr(importlib.import_module('fairing.backends'), FAIRING_BACKEND)"
   ]
  },
  {
   "cell_type": "markdown",
   "metadata": {},
   "source": [
    "## Train an XGBoost model remotely on Kubeflow\n",
    "\n",
    "Import the `TrainJob` and use the configured backend class. Kubeflow Fairing packages the `HousingServe` class, the training data, and the training job's software prerequisites as a Docker image. Then Kubeflow Fairing deploys and runs the training job on Kubeflow."
   ]
  },
  {
   "cell_type": "code",
   "execution_count": 10,
   "metadata": {
    "scrolled": false
   },
   "outputs": [
    {
     "name": "stderr",
     "output_type": "stream",
     "text": [
      "Can't determine namespace automatically. Using 'default' namespace but recomend to provide namespace explicitly. Using 'default' namespace might result in unable to mount some required secrets in cloud backends.\n",
      "Using default base docker image: registry.hub.docker.com/library/python:3.6.2\n",
      "Using builder: <class 'fairing.builders.docker.docker.DockerBuilder'>\n",
      "Building the docker image.\n",
      "Building image using docker\n",
      "Docker command: ['python', '/app/function_shim.py', '--serialized_fn_file', '/app/pickled_fn.p', '--python_version', '3.6.2']\n",
      "/home/coursera/anaconda3/envs/ksenv/lib/python3.6/site-packages/fairing/__init__.py already exists in Fairing context, skipping...\n",
      "Creating docker context: /tmp/fairing_context_5ya5fgje\n",
      "/home/coursera/anaconda3/envs/ksenv/lib/python3.6/site-packages/fairing/__init__.py already exists in Fairing context, skipping...\n",
      "Building docker image <your_private_registry>/fairing-job:5E171BC1...\n"
     ]
    },
    {
     "ename": "APIError",
     "evalue": "500 Server Error: Internal Server Error (\"invalid reference format\")",
     "output_type": "error",
     "traceback": [
      "\u001b[0;31m---------------------------------------------------------------------------\u001b[0m",
      "\u001b[0;31mHTTPError\u001b[0m                                 Traceback (most recent call last)",
      "\u001b[0;32m~/anaconda3/envs/ksenv/lib/python3.6/site-packages/docker/api/client.py\u001b[0m in \u001b[0;36m_raise_for_status\u001b[0;34m(self, response)\u001b[0m\n\u001b[1;32m    260\u001b[0m         \u001b[0;32mtry\u001b[0m\u001b[0;34m:\u001b[0m\u001b[0;34m\u001b[0m\u001b[0m\n\u001b[0;32m--> 261\u001b[0;31m             \u001b[0mresponse\u001b[0m\u001b[0;34m.\u001b[0m\u001b[0mraise_for_status\u001b[0m\u001b[0;34m(\u001b[0m\u001b[0;34m)\u001b[0m\u001b[0;34m\u001b[0m\u001b[0m\n\u001b[0m\u001b[1;32m    262\u001b[0m         \u001b[0;32mexcept\u001b[0m \u001b[0mrequests\u001b[0m\u001b[0;34m.\u001b[0m\u001b[0mexceptions\u001b[0m\u001b[0;34m.\u001b[0m\u001b[0mHTTPError\u001b[0m \u001b[0;32mas\u001b[0m \u001b[0me\u001b[0m\u001b[0;34m:\u001b[0m\u001b[0;34m\u001b[0m\u001b[0m\n",
      "\u001b[0;32m~/anaconda3/envs/ksenv/lib/python3.6/site-packages/requests/models.py\u001b[0m in \u001b[0;36mraise_for_status\u001b[0;34m(self)\u001b[0m\n\u001b[1;32m    939\u001b[0m         \u001b[0;32mif\u001b[0m \u001b[0mhttp_error_msg\u001b[0m\u001b[0;34m:\u001b[0m\u001b[0;34m\u001b[0m\u001b[0m\n\u001b[0;32m--> 940\u001b[0;31m             \u001b[0;32mraise\u001b[0m \u001b[0mHTTPError\u001b[0m\u001b[0;34m(\u001b[0m\u001b[0mhttp_error_msg\u001b[0m\u001b[0;34m,\u001b[0m \u001b[0mresponse\u001b[0m\u001b[0;34m=\u001b[0m\u001b[0mself\u001b[0m\u001b[0;34m)\u001b[0m\u001b[0;34m\u001b[0m\u001b[0m\n\u001b[0m\u001b[1;32m    941\u001b[0m \u001b[0;34m\u001b[0m\u001b[0m\n",
      "\u001b[0;31mHTTPError\u001b[0m: 500 Server Error: Internal Server Error for url: http+docker://localhost/v1.40/build?t=%3Cyour_private_registry%3E%2Ffairing-job%3A5E171BC1&q=False&nocache=False&rm=False&forcerm=False&pull=False",
      "\nDuring handling of the above exception, another exception occurred:\n",
      "\u001b[0;31mAPIError\u001b[0m                                  Traceback (most recent call last)",
      "\u001b[0;32m<ipython-input-10-d021cb6cd321>\u001b[0m in \u001b[0;36m<module>\u001b[0;34m\u001b[0m\n\u001b[1;32m      4\u001b[0m                      \u001b[0mbackend\u001b[0m\u001b[0;34m=\u001b[0m\u001b[0mBackendClass\u001b[0m\u001b[0;34m(\u001b[0m\u001b[0mbuild_context_source\u001b[0m\u001b[0;34m=\u001b[0m\u001b[0mBuildContext\u001b[0m\u001b[0;34m)\u001b[0m\u001b[0;34m,\u001b[0m\u001b[0;34m\u001b[0m\u001b[0m\n\u001b[1;32m      5\u001b[0m                      pod_spec_mutators=POD_SPEC_MUTATORS)\n\u001b[0;32m----> 6\u001b[0;31m \u001b[0mtrain_job\u001b[0m\u001b[0;34m.\u001b[0m\u001b[0msubmit\u001b[0m\u001b[0;34m(\u001b[0m\u001b[0;34m)\u001b[0m\u001b[0;34m\u001b[0m\u001b[0m\n\u001b[0m",
      "\u001b[0;32m~/anaconda3/envs/ksenv/lib/python3.6/site-packages/fairing/ml_tasks/tasks.py\u001b[0m in \u001b[0;36msubmit\u001b[0;34m(self)\u001b[0m\n\u001b[1;32m     75\u001b[0m \u001b[0;34m\u001b[0m\u001b[0m\n\u001b[1;32m     76\u001b[0m     \u001b[0;32mdef\u001b[0m \u001b[0msubmit\u001b[0m\u001b[0;34m(\u001b[0m\u001b[0mself\u001b[0m\u001b[0;34m)\u001b[0m\u001b[0;34m:\u001b[0m\u001b[0;34m\u001b[0m\u001b[0m\n\u001b[0;32m---> 77\u001b[0;31m         \u001b[0mself\u001b[0m\u001b[0;34m.\u001b[0m\u001b[0m_build\u001b[0m\u001b[0;34m(\u001b[0m\u001b[0;34m)\u001b[0m\u001b[0;34m\u001b[0m\u001b[0m\n\u001b[0m\u001b[1;32m     78\u001b[0m         deployer = self._backend.get_training_deployer(\n\u001b[1;32m     79\u001b[0m             pod_spec_mutators=self._pod_spec_mutators)\n",
      "\u001b[0;32m~/anaconda3/envs/ksenv/lib/python3.6/site-packages/fairing/ml_tasks/tasks.py\u001b[0m in \u001b[0;36m_build\u001b[0;34m(self)\u001b[0m\n\u001b[1;32m     63\u001b[0m     \u001b[0;32mdef\u001b[0m \u001b[0m_build\u001b[0m\u001b[0;34m(\u001b[0m\u001b[0mself\u001b[0m\u001b[0;34m)\u001b[0m\u001b[0;34m:\u001b[0m\u001b[0;34m\u001b[0m\u001b[0m\n\u001b[1;32m     64\u001b[0m         \u001b[0mlogging\u001b[0m\u001b[0;34m.\u001b[0m\u001b[0minfo\u001b[0m\u001b[0;34m(\u001b[0m\u001b[0;34m\"Building the docker image.\"\u001b[0m\u001b[0;34m)\u001b[0m\u001b[0;34m\u001b[0m\u001b[0m\n\u001b[0;32m---> 65\u001b[0;31m         \u001b[0mself\u001b[0m\u001b[0;34m.\u001b[0m\u001b[0mbuilder\u001b[0m\u001b[0;34m.\u001b[0m\u001b[0mbuild\u001b[0m\u001b[0;34m(\u001b[0m\u001b[0;34m)\u001b[0m\u001b[0;34m\u001b[0m\u001b[0m\n\u001b[0m\u001b[1;32m     66\u001b[0m         \u001b[0mself\u001b[0m\u001b[0;34m.\u001b[0m\u001b[0mpod_spec\u001b[0m \u001b[0;34m=\u001b[0m \u001b[0mself\u001b[0m\u001b[0;34m.\u001b[0m\u001b[0mbuilder\u001b[0m\u001b[0;34m.\u001b[0m\u001b[0mgenerate_pod_spec\u001b[0m\u001b[0;34m(\u001b[0m\u001b[0;34m)\u001b[0m\u001b[0;34m\u001b[0m\u001b[0m\n\u001b[1;32m     67\u001b[0m \u001b[0;34m\u001b[0m\u001b[0m\n",
      "\u001b[0;32m~/anaconda3/envs/ksenv/lib/python3.6/site-packages/fairing/builders/docker/docker.py\u001b[0m in \u001b[0;36mbuild\u001b[0;34m(self)\u001b[0m\n\u001b[1;32m     32\u001b[0m         \u001b[0mlogging\u001b[0m\u001b[0;34m.\u001b[0m\u001b[0minfo\u001b[0m\u001b[0;34m(\u001b[0m\u001b[0;34m\"Building image using docker\"\u001b[0m\u001b[0;34m)\u001b[0m\u001b[0;34m\u001b[0m\u001b[0m\n\u001b[1;32m     33\u001b[0m         \u001b[0mself\u001b[0m\u001b[0;34m.\u001b[0m\u001b[0mdocker_client\u001b[0m \u001b[0;34m=\u001b[0m \u001b[0mAPIClient\u001b[0m\u001b[0;34m(\u001b[0m\u001b[0mversion\u001b[0m\u001b[0;34m=\u001b[0m\u001b[0;34m'auto'\u001b[0m\u001b[0;34m)\u001b[0m\u001b[0;34m\u001b[0m\u001b[0m\n\u001b[0;32m---> 34\u001b[0;31m         \u001b[0mself\u001b[0m\u001b[0;34m.\u001b[0m\u001b[0m_build\u001b[0m\u001b[0;34m(\u001b[0m\u001b[0;34m)\u001b[0m\u001b[0;34m\u001b[0m\u001b[0m\n\u001b[0m\u001b[1;32m     35\u001b[0m         \u001b[0;32mif\u001b[0m \u001b[0mself\u001b[0m\u001b[0;34m.\u001b[0m\u001b[0mpush\u001b[0m\u001b[0;34m:\u001b[0m\u001b[0;34m\u001b[0m\u001b[0m\n\u001b[1;32m     36\u001b[0m             \u001b[0mself\u001b[0m\u001b[0;34m.\u001b[0m\u001b[0mpublish\u001b[0m\u001b[0;34m(\u001b[0m\u001b[0;34m)\u001b[0m\u001b[0;34m\u001b[0m\u001b[0m\n",
      "\u001b[0;32m~/anaconda3/envs/ksenv/lib/python3.6/site-packages/fairing/builders/docker/docker.py\u001b[0m in \u001b[0;36m_build\u001b[0;34m(self)\u001b[0m\n\u001b[1;32m     60\u001b[0m                 \u001b[0mencoding\u001b[0m\u001b[0;34m=\u001b[0m\u001b[0;34m'utf-8'\u001b[0m\u001b[0;34m\u001b[0m\u001b[0m\n\u001b[1;32m     61\u001b[0m             )\n\u001b[0;32m---> 62\u001b[0;31m         \u001b[0;32mfor\u001b[0m \u001b[0mline\u001b[0m \u001b[0;32min\u001b[0m \u001b[0mbld\u001b[0m\u001b[0;34m:\u001b[0m\u001b[0;34m\u001b[0m\u001b[0m\n\u001b[0m\u001b[1;32m     63\u001b[0m             \u001b[0mself\u001b[0m\u001b[0;34m.\u001b[0m\u001b[0m_process_stream\u001b[0m\u001b[0;34m(\u001b[0m\u001b[0mline\u001b[0m\u001b[0;34m)\u001b[0m\u001b[0;34m\u001b[0m\u001b[0m\n\u001b[1;32m     64\u001b[0m \u001b[0;34m\u001b[0m\u001b[0m\n",
      "\u001b[0;32m~/anaconda3/envs/ksenv/lib/python3.6/site-packages/docker/api/client.py\u001b[0m in \u001b[0;36m_stream_helper\u001b[0;34m(self, response, decode)\u001b[0m\n\u001b[1;32m    352\u001b[0m             \u001b[0;31m# Response isn't chunked, meaning we probably\u001b[0m\u001b[0;34m\u001b[0m\u001b[0;34m\u001b[0m\u001b[0m\n\u001b[1;32m    353\u001b[0m             \u001b[0;31m# encountered an error immediately\u001b[0m\u001b[0;34m\u001b[0m\u001b[0;34m\u001b[0m\u001b[0m\n\u001b[0;32m--> 354\u001b[0;31m             \u001b[0;32myield\u001b[0m \u001b[0mself\u001b[0m\u001b[0;34m.\u001b[0m\u001b[0m_result\u001b[0m\u001b[0;34m(\u001b[0m\u001b[0mresponse\u001b[0m\u001b[0;34m,\u001b[0m \u001b[0mjson\u001b[0m\u001b[0;34m=\u001b[0m\u001b[0mdecode\u001b[0m\u001b[0;34m)\u001b[0m\u001b[0;34m\u001b[0m\u001b[0m\n\u001b[0m\u001b[1;32m    355\u001b[0m \u001b[0;34m\u001b[0m\u001b[0m\n\u001b[1;32m    356\u001b[0m     \u001b[0;32mdef\u001b[0m \u001b[0m_multiplexed_buffer_helper\u001b[0m\u001b[0;34m(\u001b[0m\u001b[0mself\u001b[0m\u001b[0;34m,\u001b[0m \u001b[0mresponse\u001b[0m\u001b[0;34m)\u001b[0m\u001b[0;34m:\u001b[0m\u001b[0;34m\u001b[0m\u001b[0m\n",
      "\u001b[0;32m~/anaconda3/envs/ksenv/lib/python3.6/site-packages/docker/api/client.py\u001b[0m in \u001b[0;36m_result\u001b[0;34m(self, response, json, binary)\u001b[0m\n\u001b[1;32m    265\u001b[0m     \u001b[0;32mdef\u001b[0m \u001b[0m_result\u001b[0m\u001b[0;34m(\u001b[0m\u001b[0mself\u001b[0m\u001b[0;34m,\u001b[0m \u001b[0mresponse\u001b[0m\u001b[0;34m,\u001b[0m \u001b[0mjson\u001b[0m\u001b[0;34m=\u001b[0m\u001b[0;32mFalse\u001b[0m\u001b[0;34m,\u001b[0m \u001b[0mbinary\u001b[0m\u001b[0;34m=\u001b[0m\u001b[0;32mFalse\u001b[0m\u001b[0;34m)\u001b[0m\u001b[0;34m:\u001b[0m\u001b[0;34m\u001b[0m\u001b[0m\n\u001b[1;32m    266\u001b[0m         \u001b[0;32massert\u001b[0m \u001b[0;32mnot\u001b[0m \u001b[0;34m(\u001b[0m\u001b[0mjson\u001b[0m \u001b[0;32mand\u001b[0m \u001b[0mbinary\u001b[0m\u001b[0;34m)\u001b[0m\u001b[0;34m\u001b[0m\u001b[0m\n\u001b[0;32m--> 267\u001b[0;31m         \u001b[0mself\u001b[0m\u001b[0;34m.\u001b[0m\u001b[0m_raise_for_status\u001b[0m\u001b[0;34m(\u001b[0m\u001b[0mresponse\u001b[0m\u001b[0;34m)\u001b[0m\u001b[0;34m\u001b[0m\u001b[0m\n\u001b[0m\u001b[1;32m    268\u001b[0m \u001b[0;34m\u001b[0m\u001b[0m\n\u001b[1;32m    269\u001b[0m         \u001b[0;32mif\u001b[0m \u001b[0mjson\u001b[0m\u001b[0;34m:\u001b[0m\u001b[0;34m\u001b[0m\u001b[0m\n",
      "\u001b[0;32m~/anaconda3/envs/ksenv/lib/python3.6/site-packages/docker/api/client.py\u001b[0m in \u001b[0;36m_raise_for_status\u001b[0;34m(self, response)\u001b[0m\n\u001b[1;32m    261\u001b[0m             \u001b[0mresponse\u001b[0m\u001b[0;34m.\u001b[0m\u001b[0mraise_for_status\u001b[0m\u001b[0;34m(\u001b[0m\u001b[0;34m)\u001b[0m\u001b[0;34m\u001b[0m\u001b[0m\n\u001b[1;32m    262\u001b[0m         \u001b[0;32mexcept\u001b[0m \u001b[0mrequests\u001b[0m\u001b[0;34m.\u001b[0m\u001b[0mexceptions\u001b[0m\u001b[0;34m.\u001b[0m\u001b[0mHTTPError\u001b[0m \u001b[0;32mas\u001b[0m \u001b[0me\u001b[0m\u001b[0;34m:\u001b[0m\u001b[0;34m\u001b[0m\u001b[0m\n\u001b[0;32m--> 263\u001b[0;31m             \u001b[0;32mraise\u001b[0m \u001b[0mcreate_api_error_from_http_exception\u001b[0m\u001b[0;34m(\u001b[0m\u001b[0me\u001b[0m\u001b[0;34m)\u001b[0m\u001b[0;34m\u001b[0m\u001b[0m\n\u001b[0m\u001b[1;32m    264\u001b[0m \u001b[0;34m\u001b[0m\u001b[0m\n\u001b[1;32m    265\u001b[0m     \u001b[0;32mdef\u001b[0m \u001b[0m_result\u001b[0m\u001b[0;34m(\u001b[0m\u001b[0mself\u001b[0m\u001b[0;34m,\u001b[0m \u001b[0mresponse\u001b[0m\u001b[0;34m,\u001b[0m \u001b[0mjson\u001b[0m\u001b[0;34m=\u001b[0m\u001b[0;32mFalse\u001b[0m\u001b[0;34m,\u001b[0m \u001b[0mbinary\u001b[0m\u001b[0;34m=\u001b[0m\u001b[0;32mFalse\u001b[0m\u001b[0;34m)\u001b[0m\u001b[0;34m:\u001b[0m\u001b[0;34m\u001b[0m\u001b[0m\n",
      "\u001b[0;32m~/anaconda3/envs/ksenv/lib/python3.6/site-packages/docker/errors.py\u001b[0m in \u001b[0;36mcreate_api_error_from_http_exception\u001b[0;34m(e)\u001b[0m\n\u001b[1;32m     29\u001b[0m         \u001b[0;32melse\u001b[0m\u001b[0;34m:\u001b[0m\u001b[0;34m\u001b[0m\u001b[0m\n\u001b[1;32m     30\u001b[0m             \u001b[0mcls\u001b[0m \u001b[0;34m=\u001b[0m \u001b[0mNotFound\u001b[0m\u001b[0;34m\u001b[0m\u001b[0m\n\u001b[0;32m---> 31\u001b[0;31m     \u001b[0;32mraise\u001b[0m \u001b[0mcls\u001b[0m\u001b[0;34m(\u001b[0m\u001b[0me\u001b[0m\u001b[0;34m,\u001b[0m \u001b[0mresponse\u001b[0m\u001b[0;34m=\u001b[0m\u001b[0mresponse\u001b[0m\u001b[0;34m,\u001b[0m \u001b[0mexplanation\u001b[0m\u001b[0;34m=\u001b[0m\u001b[0mexplanation\u001b[0m\u001b[0;34m)\u001b[0m\u001b[0;34m\u001b[0m\u001b[0m\n\u001b[0m\u001b[1;32m     32\u001b[0m \u001b[0;34m\u001b[0m\u001b[0m\n\u001b[1;32m     33\u001b[0m \u001b[0;34m\u001b[0m\u001b[0m\n",
      "\u001b[0;31mAPIError\u001b[0m: 500 Server Error: Internal Server Error (\"invalid reference format\")"
     ]
    }
   ],
   "source": [
    "from fairing import TrainJob\n",
    "train_job = TrainJob(HousingServe, input_files=['ames_dataset/train.csv', \"requirements.txt\"],\n",
    "                     docker_registry=DOCKER_REGISTRY,\n",
    "                     backend=BackendClass(build_context_source=BuildContext),\n",
    "                     pod_spec_mutators=POD_SPEC_MUTATORS)\n",
    "train_job.submit()"
   ]
  },
  {
   "cell_type": "markdown",
   "metadata": {},
   "source": [
    "## Deploy the trained model to Kubeflow for predictions\n",
    "\n",
    "Import the `PredictionEndpoint` and use the configured backend class. Kubeflow Fairing packages the `HousingServe` class, the trained model, and the prediction endpoint's software prerequisites as a Docker image. Then Kubeflow Fairing deploys and runs the prediction endpoint on Kubeflow."
   ]
  },
  {
   "cell_type": "code",
   "execution_count": null,
   "metadata": {
    "scrolled": false
   },
   "outputs": [],
   "source": [
    "from fairing import PredictionEndpoint\n",
    "endpoint = PredictionEndpoint(HousingServe, input_files=['trained_ames_model.dat', \"requirements.txt\"],\n",
    "                              docker_registry=DOCKER_REGISTRY,\n",
    "                              backend=BackendClass(build_context_source=BuildContext),\n",
    "                              pod_spec_mutators=POD_SPEC_MUTATORS)\n",
    "endpoint.create()"
   ]
  },
  {
   "cell_type": "markdown",
   "metadata": {},
   "source": [
    "## Call the prediction endpoint\n",
    "\n",
    "Create a test dataset, then call the endpoint on Kubeflow for predictions."
   ]
  },
  {
   "cell_type": "code",
   "execution_count": null,
   "metadata": {},
   "outputs": [],
   "source": [
    "(train_X, train_y), (test_X, test_y) = read_input(\"ames_dataset/train.csv\")\n",
    "endpoint.predict_nparray(test_X)\n"
   ]
  },
  {
   "cell_type": "markdown",
   "metadata": {},
   "source": [
    "## Clean up the prediction endpoint\n",
    "\n",
    "Delete the prediction endpoint created by this notebook."
   ]
  },
  {
   "cell_type": "code",
   "execution_count": null,
   "metadata": {},
   "outputs": [],
   "source": [
    "endpoint.delete()"
   ]
  }
 ],
 "metadata": {
  "celltoolbar": "Tags",
  "kernelspec": {
   "display_name": "Python 3",
   "language": "python",
   "name": "python3"
  },
  "language_info": {
   "codemirror_mode": {
    "name": "ipython",
    "version": 3
   },
   "file_extension": ".py",
   "mimetype": "text/x-python",
   "name": "python",
   "nbconvert_exporter": "python",
   "pygments_lexer": "ipython3",
   "version": "3.6.2"
  }
 },
 "nbformat": 4,
 "nbformat_minor": 2
}
