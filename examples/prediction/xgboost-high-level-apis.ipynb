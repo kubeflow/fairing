{
 "cells": [
  {
   "cell_type": "code",
   "execution_count": 1,
   "metadata": {},
   "outputs": [],
   "source": [
    "import argparse\n",
    "import logging\n",
    "import joblib\n",
    "import sys\n",
    "import pandas as pd\n",
    "from sklearn.metrics import mean_absolute_error\n",
    "from sklearn.model_selection import train_test_split\n",
    "from sklearn.impute import SimpleImputer\n",
    "from xgboost import XGBRegressor"
   ]
  },
  {
   "cell_type": "code",
   "execution_count": 2,
   "metadata": {},
   "outputs": [],
   "source": [
    "logging.basicConfig(format='%(message)s')\n",
    "logging.getLogger().setLevel(logging.INFO)"
   ]
  },
  {
   "cell_type": "code",
   "execution_count": 3,
   "metadata": {},
   "outputs": [],
   "source": [
    "def read_input(file_name, test_size=0.25):\n",
    "    \"\"\"Read input data and split it into train and test.\"\"\"\n",
    "    data = pd.read_csv(file_name)\n",
    "    data.dropna(axis=0, subset=['SalePrice'], inplace=True)\n",
    "\n",
    "    y = data.SalePrice\n",
    "    X = data.drop(['SalePrice'], axis=1).select_dtypes(exclude=['object'])\n",
    "\n",
    "    train_X, test_X, train_y, test_y = train_test_split(X.values,\n",
    "                                                      y.values,\n",
    "                                                      test_size=test_size,\n",
    "                                                      shuffle=False)\n",
    "\n",
    "    imputer = SimpleImputer()\n",
    "    train_X = imputer.fit_transform(train_X)\n",
    "    test_X = imputer.transform(test_X)\n",
    "\n",
    "    return (train_X, train_y), (test_X, test_y)"
   ]
  },
  {
   "cell_type": "code",
   "execution_count": 4,
   "metadata": {},
   "outputs": [],
   "source": [
    "def train_model(train_X,\n",
    "                train_y,\n",
    "                test_X,\n",
    "                test_y,\n",
    "                n_estimators,\n",
    "                learning_rate):\n",
    "    \"\"\"Train the model using XGBRegressor.\"\"\"\n",
    "    model = XGBRegressor(n_estimators=n_estimators, learning_rate=learning_rate)\n",
    "\n",
    "    model.fit(train_X,\n",
    "            train_y,\n",
    "            early_stopping_rounds=40,\n",
    "            eval_set=[(test_X, test_y)])\n",
    "\n",
    "    print(\"Best RMSE on eval: %.2f with %d rounds\",\n",
    "               model.best_score,\n",
    "               model.best_iteration+1)\n",
    "    return model\n",
    "\n",
    "def eval_model(model, test_X, test_y):\n",
    "    \"\"\"Evaluate the model performance.\"\"\"\n",
    "    predictions = model.predict(test_X)\n",
    "    logging.info(\"mean_absolute_error=%.2f\", mean_absolute_error(predictions, test_y))\n",
    "\n",
    "def save_model(model, model_file):\n",
    "    \"\"\"Save XGBoost model for serving.\"\"\"\n",
    "    joblib.dump(model, model_file)\n",
    "    logging.info(\"Model export success: %s\", model_file)"
   ]
  },
  {
   "cell_type": "code",
   "execution_count": 5,
   "metadata": {},
   "outputs": [],
   "source": [
    "def gcs_copy(src_path, dst_path):\n",
    "    import subprocess\n",
    "    print(subprocess.run(['gsutil', 'cp', src_path, dst_path], stdout=subprocess.PIPE).stdout[:-1].decode('utf-8'))\n",
    "    #print(subprocess.run(['gsutil', 'ls', dst_path], stdout=subprocess.PIPE).stdout[:-1].decode('utf-8'))"
   ]
  },
  {
   "cell_type": "code",
   "execution_count": 6,
   "metadata": {},
   "outputs": [
    {
     "name": "stdout",
     "output_type": "stream",
     "text": [
      "Creating gs://fairing-demo/...\n",
      "ServiceException: 409 Bucket fairing-demo already exists.\n"
     ]
    }
   ],
   "source": [
    "### create GCS bucket for storing model weights\n",
    "GCS_BUCKET = \"gs://fairing-demo\"\n",
    "!gsutil mb {GCS_BUCKET}"
   ]
  },
  {
   "cell_type": "code",
   "execution_count": 14,
   "metadata": {},
   "outputs": [],
   "source": [
    "class HousingServe(object):\n",
    "    \n",
    "    def __init__(self):\n",
    "        self.train_input = \"ames_dataset/train.csv\"\n",
    "        self.n_estimators = 50\n",
    "        self.learning_rate = 0.1\n",
    "        self.model_file = \"trained_ames_model.dat\"\n",
    "        self.gcs_model_file = \"{}/housing_serve/{}\".format(GCS_BUCKET, self.model_file)\n",
    "        self.model = None\n",
    "\n",
    "    def train(self):\n",
    "        (train_X, train_y), (test_X, test_y) = read_input(self.train_input)\n",
    "        model = train_model(train_X,\n",
    "                          train_y,\n",
    "                          test_X,\n",
    "                          test_y,\n",
    "                          self.n_estimators,\n",
    "                          self.learning_rate)\n",
    "\n",
    "        eval_model(model, test_X, test_y)\n",
    "        save_model(model, self.model_file)\n",
    "        gcs_copy(self.model_file, self.gcs_model_file)\n",
    "        print(\"Model saved to {}\".format(self.gcs_model_file))\n",
    "\n",
    "    def predict(self, X, feature_names):\n",
    "        \"\"\"Predict using the model for given ndarray.\"\"\"\n",
    "        if not self.model:\n",
    "            self.model = joblib.load(self.model_file)\n",
    "        # Do any preprocessing\n",
    "        prediction = self.model.predict(data=X)\n",
    "        # Do any postprocessing\n",
    "        return [[prediction.item(0), prediction.item(0)]]"
   ]
  },
  {
   "cell_type": "markdown",
   "metadata": {},
   "source": [
    "## Training Locally"
   ]
  },
  {
   "cell_type": "code",
   "execution_count": 8,
   "metadata": {},
   "outputs": [
    {
     "name": "stdout",
     "output_type": "stream",
     "text": [
      "[0]\tvalidation_0-rmse:177514\n",
      "Will train until validation_0-rmse hasn't improved in 40 rounds.\n",
      "[1]\tvalidation_0-rmse:161858\n",
      "[2]\tvalidation_0-rmse:147237\n",
      "[3]\tvalidation_0-rmse:134132\n",
      "[4]\tvalidation_0-rmse:122224\n",
      "[5]\tvalidation_0-rmse:111538\n",
      "[6]\tvalidation_0-rmse:102142\n",
      "[7]\tvalidation_0-rmse:93392.3\n",
      "[8]\tvalidation_0-rmse:85824.6\n",
      "[9]\tvalidation_0-rmse:79667.6\n",
      "[10]\tvalidation_0-rmse:73463.4\n",
      "[11]\tvalidation_0-rmse:68059.4\n",
      "[12]\tvalidation_0-rmse:63350.5\n",
      "[13]\tvalidation_0-rmse:59732.1\n",
      "[14]\tvalidation_0-rmse:56260.7\n",
      "[15]\tvalidation_0-rmse:53392.6\n",
      "[16]\tvalidation_0-rmse:50770.8\n",
      "[17]\tvalidation_0-rmse:48107.8\n",
      "[18]\tvalidation_0-rmse:45923.9\n",
      "[19]\tvalidation_0-rmse:44154.2\n",
      "[20]\tvalidation_0-rmse:42488.1\n",
      "[21]\tvalidation_0-rmse:41263.3\n",
      "[22]\tvalidation_0-rmse:40212.8\n",
      "[23]\tvalidation_0-rmse:39089.1\n",
      "[24]\tvalidation_0-rmse:37691.1\n",
      "[25]\tvalidation_0-rmse:36875.2\n",
      "[26]\tvalidation_0-rmse:36276.2\n",
      "[27]\tvalidation_0-rmse:35444.1\n",
      "[28]\tvalidation_0-rmse:34831.5\n",
      "[29]\tvalidation_0-rmse:34205.4\n",
      "[30]\tvalidation_0-rmse:33831.9\n",
      "[31]\tvalidation_0-rmse:33183.6\n",
      "[32]\tvalidation_0-rmse:33019.4\n",
      "[33]\tvalidation_0-rmse:32680\n",
      "[34]\tvalidation_0-rmse:32438.5\n",
      "[35]\tvalidation_0-rmse:32130.4\n",
      "[36]\tvalidation_0-rmse:31644.2\n",
      "[37]\tvalidation_0-rmse:31248.9\n",
      "[38]\tvalidation_0-rmse:31059.8\n",
      "[39]\tvalidation_0-rmse:30862.4\n",
      "[40]\tvalidation_0-rmse:30754\n",
      "[41]\tvalidation_0-rmse:30561.6\n",
      "[42]\tvalidation_0-rmse:30416.9\n",
      "[43]\tvalidation_0-rmse:30156.4\n",
      "[44]\tvalidation_0-rmse:29852.9\n",
      "[45]\tvalidation_0-rmse:29486.6\n",
      "[46]\tvalidation_0-rmse:29158.8\n",
      "[47]\tvalidation_0-rmse:29017\n",
      "[48]\tvalidation_0-rmse:28973.9\n",
      "[49]\tvalidation_0-rmse:28787.7\n"
     ]
    },
    {
     "name": "stderr",
     "output_type": "stream",
     "text": [
      "mean_absolute_error=18173.15\n",
      "Model export success: trained_ames_model.dat\n"
     ]
    },
    {
     "name": "stdout",
     "output_type": "stream",
     "text": [
      "Best RMSE on eval: %.2f with %d rounds 28787.720703 50\n",
      "\n",
      "Model saved to gs://fairing-demo/housing_serve/trained_ames_model.dat\n"
     ]
    }
   ],
   "source": [
    "HousingServe().train()"
   ]
  },
  {
   "cell_type": "markdown",
   "metadata": {},
   "source": [
    "## Fairing"
   ]
  },
  {
   "cell_type": "code",
   "execution_count": 9,
   "metadata": {},
   "outputs": [],
   "source": [
    "import os\n",
    "import fairing\n",
    "\n",
    "# Setting up google container repositories (GCR) for storing output containers\n",
    "# You can use any docker container registry istead of GCR\n",
    "GCP_PROJECT = fairing.cloud.gcp.guess_project_name()\n",
    "DOCKER_REGISTRY = 'gcr.io/{}/fairing-job'.format(GCP_PROJECT)"
   ]
  },
  {
   "cell_type": "markdown",
   "metadata": {},
   "source": [
    "## Build base image for remote training and prediction"
   ]
  },
  {
   "cell_type": "code",
   "execution_count": 10,
   "metadata": {},
   "outputs": [],
   "source": [
    "py_version = \".\".join([str(x) for x in sys.version_info[0:3]])\n",
    "base_image = 'gcr.io/{}/fairing-predict-example:latest'.format(GCP_PROJECT)"
   ]
  },
  {
   "cell_type": "code",
   "execution_count": 15,
   "metadata": {},
   "outputs": [
    {
     "name": "stdout",
     "output_type": "stream",
     "text": [
      "pandas\r\n",
      "joblib\r\n",
      "numpy\r\n",
      "xgboost\r\n",
      "sklearn\r\n",
      "seldon-core"
     ]
    }
   ],
   "source": [
    "!cat requirements.txt"
   ]
  },
  {
   "cell_type": "code",
   "execution_count": null,
   "metadata": {},
   "outputs": [],
   "source": [
    "!docker build --build-arg PY_VERSION={py_version} . -t {base_image}\n",
    "!docker push {base_image}"
   ]
  },
  {
   "cell_type": "markdown",
   "metadata": {},
   "source": [
    "## Training in KF"
   ]
  },
  {
   "cell_type": "code",
   "execution_count": null,
   "metadata": {},
   "outputs": [],
   "source": []
  },
  {
   "cell_type": "code",
   "execution_count": 11,
   "metadata": {
    "scrolled": true
   },
   "outputs": [
    {
     "name": "stderr",
     "output_type": "stream",
     "text": [
      "Using preprocessor: <class 'fairing.preprocessors.function.FunctionPreProcessor'>\n",
      "Using docker registry: gcr.io/caip-dexter-bugbash\n",
      "Using builder: DockerBuilder\n",
      "Docker command: ['python', '/app/function_shim.py', '--serialized_fn_file', '/app/pickled_fn.p']\n",
      "/Users/cartick/Documents/workspace/fairing/venv/lib/python3.7/site-packages/fairing/__init__.py already exists in Fairing context, skipping...\n",
      "Building docker image gcr.io/caip-dexter-bugbash/fairing-job:A457822C...\n",
      "Build output: Step 1/6 : FROM gcr.io/caip-dexter-bugbash/fairing-predict-example:latest\n",
      "Build output: \n",
      "Build output: ---> 129284ce93f5\n",
      "Build output: Step 2/6 : WORKDIR /app/\n",
      "Build output: \n",
      "Build output: ---> Using cache\n",
      "Build output: ---> f84480a8f8d5\n",
      "Build output: Step 3/6 : ENV FAIRING_RUNTIME 1\n",
      "Build output: \n",
      "Build output: ---> Using cache\n",
      "Build output: ---> 474924c16985\n",
      "Build output: Step 4/6 : COPY /app/ /app/\n",
      "Build output: \n",
      "Build output: ---> c2857869ab15\n",
      "Build output: Step 5/6 : RUN if [ -e requirements.txt ];then pip install --no-cache -r requirements.txt; fi\n",
      "Build output: \n",
      "Build output: ---> Running in 81ae70a9f011\n",
      "Build output: Requirement already satisfied: pandas in /usr/local/lib/python3.7/site-packages (from -r requirements.txt (line 1)) (0.24.2)\n",
      "Build output: Requirement already satisfied: joblib in /usr/local/lib/python3.7/site-packages (from -r requirements.txt (line 2)) (0.13.2)\n",
      "Build output: Requirement already satisfied: numpy in /usr/local/lib/python3.7/site-packages (from -r requirements.txt (line 3)) (1.16.2)\n",
      "Build output: Requirement already satisfied: xgboost in /usr/local/lib/python3.7/site-packages (from -r requirements.txt (line 4)) (0.82)\n",
      "Build output: Requirement already satisfied: sklearn in /usr/local/lib/python3.7/site-packages (from -r requirements.txt (line 5)) (0.0)\n",
      "Build output: Requirement already satisfied: seldon-core in /usr/local/lib/python3.7/site-packages (from -r requirements.txt (line 6)) (0.2.6.1)\n",
      "Build output: Requirement already satisfied: pytz>=2011k in /usr/local/lib/python3.7/site-packages (from pandas->-r requirements.txt (line 1)) (2018.9)\n",
      "Build output: Requirement already satisfied: python-dateutil>=2.5.0 in /usr/local/lib/python3.7/site-packages (from pandas->-r requirements.txt (line 1)) (2.8.0)\n",
      "Build output: Requirement already satisfied: scipy in /usr/local/lib/python3.7/site-packages (from xgboost->-r requirements.txt (line 4)) (1.2.1)\n",
      "Build output: Requirement already satisfied: scikit-learn in /usr/local/lib/python3.7/site-packages (from sklearn->-r requirements.txt (line 5)) (0.20.3)\n",
      "Build output: Requirement already satisfied: redis in /usr/local/lib/python3.7/site-packages (from seldon-core->-r requirements.txt (line 6)) (3.2.1)\n",
      "Build output: Requirement already satisfied: flask-cors in /usr/local/lib/python3.7/site-packages (from seldon-core->-r requirements.txt (line 6)) (3.0.7)\n",
      "Build output: Requirement already satisfied: grpcio in /usr/local/lib/python3.7/site-packages (from seldon-core->-r requirements.txt (line 6)) (1.19.0)\n",
      "Build output: Requirement already satisfied: tensorflow in /usr/local/lib/python3.7/site-packages (from seldon-core->-r requirements.txt (line 6)) (1.13.1)\n",
      "Build output: Requirement already satisfied: jaeger-client in /usr/local/lib/python3.7/site-packages (from seldon-core->-r requirements.txt (line 6)) (3.13.0)\n",
      "Build output: Requirement already satisfied: protobuf in /usr/local/lib/python3.7/site-packages (from seldon-core->-r requirements.txt (line 6)) (3.7.0)\n",
      "Build output: Requirement already satisfied: tornado<5,>=4.3 in /usr/local/lib/python3.7/site-packages (from seldon-core->-r requirements.txt (line 6)) (4.5.3)\n",
      "Build output: Requirement already satisfied: requests in /usr/local/lib/python3.7/site-packages (from seldon-core->-r requirements.txt (line 6)) (2.21.0)\n",
      "Build output: Requirement already satisfied: flask in /usr/local/lib/python3.7/site-packages (from seldon-core->-r requirements.txt (line 6)) (1.0.2)\n",
      "Build output: Requirement already satisfied: pyyaml in /usr/local/lib/python3.7/site-packages (from seldon-core->-r requirements.txt (line 6)) (5.1)\n",
      "Build output: Requirement already satisfied: grpcio-opentracing in /usr/local/lib/python3.7/site-packages (from seldon-core->-r requirements.txt (line 6)) (1.1.3)\n",
      "Build output: Requirement already satisfied: flatbuffers in /usr/local/lib/python3.7/site-packages (from seldon-core->-r requirements.txt (line 6)) (1.10)\n",
      "Build output: Requirement already satisfied: opentracing<2,>=1.2.2 in /usr/local/lib/python3.7/site-packages (from seldon-core->-r requirements.txt (line 6)) (1.3.0)\n",
      "Build output: Requirement already satisfied: Flask-OpenTracing==0.2.0 in /usr/local/lib/python3.7/site-packages (from seldon-core->-r requirements.txt (line 6)) (0.2.0)\n",
      "Build output: Requirement already satisfied: six>=1.5 in /usr/local/lib/python3.7/site-packages (from python-dateutil>=2.5.0->pandas->-r requirements.txt (line 1)) (1.12.0)\n",
      "Build output: Requirement already satisfied: absl-py>=0.1.6 in /usr/local/lib/python3.7/site-packages (from tensorflow->seldon-core->-r requirements.txt (line 6)) (0.7.1)\n",
      "Build output: Requirement already satisfied: astor>=0.6.0 in /usr/local/lib/python3.7/site-packages (from tensorflow->seldon-core->-r requirements.txt (line 6)) (0.7.1)\n",
      "Build output: Requirement already satisfied: tensorflow-estimator<1.14.0rc0,>=1.13.0 in /usr/local/lib/python3.7/site-packages (from tensorflow->seldon-core->-r requirements.txt (line 6)) (1.13.0)\n",
      "Build output: Requirement already satisfied: keras-applications>=1.0.6 in /usr/local/lib/python3.7/site-packages (from tensorflow->seldon-core->-r requirements.txt (line 6)) (1.0.7)\n",
      "Build output: Requirement already satisfied: keras-preprocessing>=1.0.5 in /usr/local/lib/python3.7/site-packages (from tensorflow->seldon-core->-r requirements.txt (line 6)) (1.0.9)\n",
      "Build output: Requirement already satisfied: termcolor>=1.1.0 in /usr/local/lib/python3.7/site-packages (from tensorflow->seldon-core->-r requirements.txt (line 6)) (1.1.0)\n",
      "Build output: Requirement already satisfied: wheel>=0.26 in /usr/local/lib/python3.7/site-packages (from tensorflow->seldon-core->-r requirements.txt (line 6)) (0.33.1)\n",
      "Build output: Requirement already satisfied: tensorboard<1.14.0,>=1.13.0 in /usr/local/lib/python3.7/site-packages (from tensorflow->seldon-core->-r requirements.txt (line 6)) (1.13.1)\n",
      "Build output: Requirement already satisfied: gast>=0.2.0 in /usr/local/lib/python3.7/site-packages (from tensorflow->seldon-core->-r requirements.txt (line 6)) (0.2.2)\n",
      "Build output: Requirement already satisfied: thrift in /usr/local/lib/python3.7/site-packages (from jaeger-client->seldon-core->-r requirements.txt (line 6)) (0.11.0)\n",
      "Build output: Requirement already satisfied: threadloop<2,>=1 in /usr/local/lib/python3.7/site-packages (from jaeger-client->seldon-core->-r requirements.txt (line 6)) (1.0.2)\n",
      "Build output: Requirement already satisfied: setuptools in /usr/local/lib/python3.7/site-packages (from protobuf->seldon-core->-r requirements.txt (line 6)) (40.8.0)\n",
      "Build output: Requirement already satisfied: idna<2.9,>=2.5 in /usr/local/lib/python3.7/site-packages (from requests->seldon-core->-r requirements.txt (line 6)) (2.8)\n",
      "Build output: Requirement already satisfied: chardet<3.1.0,>=3.0.2 in /usr/local/lib/python3.7/site-packages (from requests->seldon-core->-r requirements.txt (line 6)) (3.0.4)\n",
      "Build output: Requirement already satisfied: urllib3<1.25,>=1.21.1 in /usr/local/lib/python3.7/site-packages (from requests->seldon-core->-r requirements.txt (line 6)) (1.24.1)\n",
      "Build output: Requirement already satisfied: certifi>=2017.4.17 in /usr/local/lib/python3.7/site-packages (from requests->seldon-core->-r requirements.txt (line 6)) (2019.3.9)\n",
      "Build output: Requirement already satisfied: itsdangerous>=0.24 in /usr/local/lib/python3.7/site-packages (from flask->seldon-core->-r requirements.txt (line 6)) (1.1.0)\n",
      "Build output: Requirement already satisfied: Jinja2>=2.10 in /usr/local/lib/python3.7/site-packages (from flask->seldon-core->-r requirements.txt (line 6)) (2.10)\n",
      "Build output: Requirement already satisfied: click>=5.1 in /usr/local/lib/python3.7/site-packages (from flask->seldon-core->-r requirements.txt (line 6)) (7.0)\n"
     ]
    },
    {
     "name": "stderr",
     "output_type": "stream",
     "text": [
      "Build output: Requirement already satisfied: Werkzeug>=0.14 in /usr/local/lib/python3.7/site-packages (from flask->seldon-core->-r requirements.txt (line 6)) (0.14.1)\n",
      "Build output: Requirement already satisfied: mock>=2.0.0 in /usr/local/lib/python3.7/site-packages (from tensorflow-estimator<1.14.0rc0,>=1.13.0->tensorflow->seldon-core->-r requirements.txt (line 6)) (2.0.0)\n",
      "Build output: Requirement already satisfied: h5py in /usr/local/lib/python3.7/site-packages (from keras-applications>=1.0.6->tensorflow->seldon-core->-r requirements.txt (line 6)) (2.9.0)\n",
      "Build output: Requirement already satisfied: markdown>=2.6.8 in /usr/local/lib/python3.7/site-packages (from tensorboard<1.14.0,>=1.13.0->tensorflow->seldon-core->-r requirements.txt (line 6)) (3.0.1)\n",
      "Build output: Requirement already satisfied: MarkupSafe>=0.23 in /usr/local/lib/python3.7/site-packages (from Jinja2>=2.10->flask->seldon-core->-r requirements.txt (line 6)) (1.1.1)\n",
      "Build output: Requirement already satisfied: pbr>=0.11 in /usr/local/lib/python3.7/site-packages (from mock>=2.0.0->tensorflow-estimator<1.14.0rc0,>=1.13.0->tensorflow->seldon-core->-r requirements.txt (line 6)) (5.1.3)\n",
      "Build output: ---> 78b3320ed337\n",
      "Build output: Step 6/6 : CMD python /app/function_shim.py --serialized_fn_file /app/pickled_fn.p\n",
      "Build output: \n",
      "Build output: ---> Running in 7c95522fb220\n",
      "Build output: ---> 903337404cca\n",
      "Push finished: {'ID': 'sha256:903337404cca2948cd51b2c4e686ab020a90fdabf46bbd0cd79fb3cdf59004b8'}\n",
      "Build output: Successfully built 903337404cca\n",
      "Build output: Successfully tagged gcr.io/caip-dexter-bugbash/fairing-job:A457822C\n",
      "Publishing image gcr.io/caip-dexter-bugbash/fairing-job:A457822C...\n",
      "Push output: The push refers to repository [gcr.io/caip-dexter-bugbash/fairing-job] None\n",
      "Push output: Preparing None\n",
      "Push output: Preparing None\n",
      "Push output: Preparing None\n",
      "Push output: Preparing None\n",
      "Push output: Preparing None\n",
      "Push output: Preparing None\n",
      "Push output: Preparing None\n",
      "Push output: Preparing None\n",
      "Push output: Preparing None\n",
      "Push output: Preparing None\n",
      "Push output: Preparing None\n",
      "Push output: Preparing None\n",
      "Push output: Preparing None\n",
      "Push output: Preparing None\n",
      "Push output: Preparing None\n",
      "Push output: Waiting None\n",
      "Push output: Waiting None\n",
      "Push output: Waiting None\n",
      "Push output: Waiting None\n",
      "Push output: Waiting None\n",
      "Push output: Waiting None\n",
      "Push output: Waiting None\n",
      "Push output: Waiting None\n",
      "Push output: Waiting None\n",
      "Push output: Waiting None\n",
      "Push output: Pushing [===>                                               ]  35.33kB/508.1kB\n",
      "Push output: Pushing  1.536kB\n",
      "Push output: Layer already exists None\n",
      "Push output: Layer already exists None\n",
      "Push output: Layer already exists None\n",
      "Push output: Pushing [==================================================>]  517.1kB\n",
      "Push output: Layer already exists None\n",
      "Push output: Layer already exists None\n",
      "Push output: Layer already exists None\n",
      "Push output: Layer already exists None\n",
      "Push output: Layer already exists None\n",
      "Push output: Layer already exists None\n",
      "Push output: Layer already exists None\n",
      "Push output: Layer already exists None\n",
      "Push output: Layer already exists None\n",
      "Push output: Layer already exists None\n",
      "Push output: Pushed None\n",
      "Push output: Pushed None\n",
      "Push output: A457822C: digest: sha256:73625b1a45c45cbee076bccc08881798f36395d663bec75690eea10f072fd41c size: 3478 None\n",
      "Push finished: {'Tag': 'A457822C', 'Digest': 'sha256:73625b1a45c45cbee076bccc08881798f36395d663bec75690eea10f072fd41c', 'Size': 3478}\n",
      "Training job fairing-job-s5x9t launched.\n",
      "Waiting for fairing-job-s5x9t-qtvgn to start...\n",
      "Pod started running True\n"
     ]
    },
    {
     "name": "stdout",
     "output_type": "stream",
     "text": [
      "[0]\tvalidation_0-rmse:177514\n",
      "Will train until validation_0-rmse hasn't improved in 40 rounds.\n",
      "[1]\tvalidation_0-rmse:161858\n",
      "[2]\tvalidation_0-rmse:147237\n",
      "[3]\tvalidation_0-rmse:134132\n",
      "[4]\tvalidation_0-rmse:122224\n",
      "[5]\tvalidation_0-rmse:111538\n",
      "[6]\tvalidation_0-rmse:102142\n",
      "[7]\tvalidation_0-rmse:93392.3\n",
      "[8]\tvalidation_0-rmse:85824.6\n",
      "[9]\tvalidation_0-rmse:79667.6\n",
      "[10]\tvalidation_0-rmse:73463.4\n",
      "[11]\tvalidation_0-rmse:68059.4\n",
      "[12]\tvalidation_0-rmse:63350.5\n",
      "[13]\tvalidation_0-rmse:59732.1\n",
      "[14]\tvalidation_0-rmse:56260.7\n",
      "[15]\tvalidation_0-rmse:53392.6\n",
      "[16]\tvalidation_0-rmse:50770.8\n",
      "[17]\tvalidation_0-rmse:48107.8\n",
      "[18]\tvalidation_0-rmse:45923.9\n",
      "[19]\tvalidation_0-rmse:44154.2\n",
      "[20]\tvalidation_0-rmse:42488.1\n",
      "[21]\tvalidation_0-rmse:41263.3\n",
      "[22]\tvalidation_0-rmse:40212.8\n",
      "[23]\tvalidation_0-rmse:39089.1\n",
      "[24]\tvalidation_0-rmse:37691.1\n",
      "[25]\tvalidation_0-rmse:36875.2\n",
      "[26]\tvalidation_0-rmse:36276.2\n",
      "[27]\tvalidation_0-rmse:35444.1\n",
      "[28]\tvalidation_0-rmse:34831.5\n",
      "[29]\tvalidation_0-rmse:34205.4\n",
      "[30]\tvalidation_0-rmse:33831.9\n",
      "[31]\tvalidation_0-rmse:33183.6\n",
      "[32]\tvalidation_0-rmse:33019.4\n",
      "[33]\tvalidation_0-rmse:32680\n",
      "[34]\tvalidation_0-rmse:32438.5\n",
      "[35]\tvalidation_0-rmse:32130.4\n",
      "[36]\tvalidation_0-rmse:31644.2\n",
      "[37]\tvalidation_0-rmse:31248.9\n",
      "[38]\tvalidation_0-rmse:31059.8\n",
      "[39]\tvalidation_0-rmse:30862.4\n",
      "[40]\tvalidation_0-rmse:30754\n",
      "[41]\tvalidation_0-rmse:30561.6\n",
      "[42]\tvalidation_0-rmse:30416.9\n",
      "[43]\tvalidation_0-rmse:30156.4\n",
      "[44]\tvalidation_0-rmse:29852.9\n",
      "[45]\tvalidation_0-rmse:29486.6\n",
      "[46]\tvalidation_0-rmse:29158.8\n",
      "[47]\tvalidation_0-rmse:29017\n",
      "[48]\tvalidation_0-rmse:28973.9\n",
      "[49]\tvalidation_0-rmse:28787.7\n",
      "mean_absolute_error=18173.15\n",
      "Model export success: trained_ames_model.dat\n",
      "Copying file://trained_ames_model.dat [Content-Type=application/octet-stream]...\n",
      "AccessDeniedException: 403 Insufficient Permission                              \n",
      "Best RMSE on eval: %.2f with %d rounds 28787.720703 50\n",
      "\n",
      "Model saved to gs://fairing-demo/housing_serve/trained_ames_model.dat\n"
     ]
    },
    {
     "name": "stderr",
     "output_type": "stream",
     "text": [
      "Cleaning up job fairing-job-s5x9t...\n"
     ]
    }
   ],
   "source": [
    "from fairing.ml_tasks import TrainJob\n",
    "train_job = TrainJob(HousingServe, base_image, input_files=['ames_dataset/train.csv'], nodes=2, cpus_per_nmpde=16, gpus_pernode=1)\n",
    "train_job.submit()"
   ]
  },
  {
   "cell_type": "markdown",
   "metadata": {},
   "source": [
    "## Deploying model and creating an endpoint in KF"
   ]
  },
  {
   "cell_type": "code",
   "execution_count": 11,
   "metadata": {
    "scrolled": true
   },
   "outputs": [
    {
     "name": "stderr",
     "output_type": "stream",
     "text": [
      "Using preprocessor: <class 'fairing.preprocessors.function.FunctionPreProcessor'>\n",
      "Using docker registry: gcr.io/caip-dexter-bugbash\n",
      "Using builder: DockerBuilder\n",
      "Docker command: ['python', '/app/function_shim.py', '--serialized_fn_file', '/app/pickled_fn.p']\n",
      "/Users/cartick/Documents/workspace/fairing/venv/lib/python3.7/site-packages/fairing/__init__.py already exists in Fairing context, skipping...\n",
      "Building docker image gcr.io/caip-dexter-bugbash/fairing-job:913FA984...\n",
      "Build output: Step 1/6 : FROM gcr.io/caip-dexter-bugbash/fairing-predict-example:latest\n",
      "Build output: \n",
      "Build output: ---> 129284ce93f5\n",
      "Build output: Step 2/6 : WORKDIR /app/\n",
      "Build output: \n",
      "Build output: ---> Using cache\n",
      "Build output: ---> f84480a8f8d5\n",
      "Build output: Step 3/6 : ENV FAIRING_RUNTIME 1\n",
      "Build output: \n",
      "Build output: ---> Using cache\n",
      "Build output: ---> 474924c16985\n",
      "Build output: Step 4/6 : COPY /app/ /app/\n",
      "Build output: \n",
      "Build output: ---> fd62bfcacd28\n",
      "Build output: Step 5/6 : RUN if [ -e requirements.txt ];then pip install --no-cache -r requirements.txt; fi\n",
      "Build output: \n",
      "Build output: ---> Running in 94ba145a21e4\n",
      "Build output: Requirement already satisfied: pandas in /usr/local/lib/python3.7/site-packages (from -r requirements.txt (line 1)) (0.24.2)\n",
      "Build output: Requirement already satisfied: joblib in /usr/local/lib/python3.7/site-packages (from -r requirements.txt (line 2)) (0.13.2)\n",
      "Build output: Requirement already satisfied: numpy in /usr/local/lib/python3.7/site-packages (from -r requirements.txt (line 3)) (1.16.2)\n",
      "Build output: Requirement already satisfied: xgboost in /usr/local/lib/python3.7/site-packages (from -r requirements.txt (line 4)) (0.82)\n",
      "Build output: Requirement already satisfied: sklearn in /usr/local/lib/python3.7/site-packages (from -r requirements.txt (line 5)) (0.0)\n",
      "Build output: Requirement already satisfied: seldon-core in /usr/local/lib/python3.7/site-packages (from -r requirements.txt (line 6)) (0.2.6.1)\n",
      "Build output: Requirement already satisfied: pytz>=2011k in /usr/local/lib/python3.7/site-packages (from pandas->-r requirements.txt (line 1)) (2018.9)\n",
      "Build output: Requirement already satisfied: python-dateutil>=2.5.0 in /usr/local/lib/python3.7/site-packages (from pandas->-r requirements.txt (line 1)) (2.8.0)\n",
      "Build output: Requirement already satisfied: scipy in /usr/local/lib/python3.7/site-packages (from xgboost->-r requirements.txt (line 4)) (1.2.1)\n",
      "Build output: Requirement already satisfied: scikit-learn in /usr/local/lib/python3.7/site-packages (from sklearn->-r requirements.txt (line 5)) (0.20.3)\n",
      "Build output: Requirement already satisfied: grpcio-opentracing in /usr/local/lib/python3.7/site-packages (from seldon-core->-r requirements.txt (line 6)) (1.1.3)\n",
      "Build output: Requirement already satisfied: flask-cors in /usr/local/lib/python3.7/site-packages (from seldon-core->-r requirements.txt (line 6)) (3.0.7)\n",
      "Build output: Requirement already satisfied: jaeger-client in /usr/local/lib/python3.7/site-packages (from seldon-core->-r requirements.txt (line 6)) (3.13.0)\n",
      "Build output: Requirement already satisfied: tornado<5,>=4.3 in /usr/local/lib/python3.7/site-packages (from seldon-core->-r requirements.txt (line 6)) (4.5.3)\n",
      "Build output: Requirement already satisfied: opentracing<2,>=1.2.2 in /usr/local/lib/python3.7/site-packages (from seldon-core->-r requirements.txt (line 6)) (1.3.0)\n",
      "Build output: Requirement already satisfied: requests in /usr/local/lib/python3.7/site-packages (from seldon-core->-r requirements.txt (line 6)) (2.21.0)\n",
      "Build output: Requirement already satisfied: flatbuffers in /usr/local/lib/python3.7/site-packages (from seldon-core->-r requirements.txt (line 6)) (1.10)\n",
      "Build output: Requirement already satisfied: pyyaml in /usr/local/lib/python3.7/site-packages (from seldon-core->-r requirements.txt (line 6)) (5.1)\n",
      "Build output: Requirement already satisfied: Flask-OpenTracing==0.2.0 in /usr/local/lib/python3.7/site-packages (from seldon-core->-r requirements.txt (line 6)) (0.2.0)\n",
      "Build output: Requirement already satisfied: flask in /usr/local/lib/python3.7/site-packages (from seldon-core->-r requirements.txt (line 6)) (1.0.2)\n",
      "Build output: Requirement already satisfied: tensorflow in /usr/local/lib/python3.7/site-packages (from seldon-core->-r requirements.txt (line 6)) (1.13.1)\n",
      "Build output: Requirement already satisfied: redis in /usr/local/lib/python3.7/site-packages (from seldon-core->-r requirements.txt (line 6)) (3.2.1)\n",
      "Build output: Requirement already satisfied: protobuf in /usr/local/lib/python3.7/site-packages (from seldon-core->-r requirements.txt (line 6)) (3.7.0)\n",
      "Build output: Requirement already satisfied: grpcio in /usr/local/lib/python3.7/site-packages (from seldon-core->-r requirements.txt (line 6)) (1.19.0)\n",
      "Build output: Requirement already satisfied: six>=1.5 in /usr/local/lib/python3.7/site-packages (from python-dateutil>=2.5.0->pandas->-r requirements.txt (line 1)) (1.12.0)\n",
      "Build output: Requirement already satisfied: threadloop<2,>=1 in /usr/local/lib/python3.7/site-packages (from jaeger-client->seldon-core->-r requirements.txt (line 6)) (1.0.2)\n",
      "Build output: Requirement already satisfied: thrift in /usr/local/lib/python3.7/site-packages (from jaeger-client->seldon-core->-r requirements.txt (line 6)) (0.11.0)\n",
      "Build output: Requirement already satisfied: urllib3<1.25,>=1.21.1 in /usr/local/lib/python3.7/site-packages (from requests->seldon-core->-r requirements.txt (line 6)) (1.24.1)\n",
      "Build output: Requirement already satisfied: certifi>=2017.4.17 in /usr/local/lib/python3.7/site-packages (from requests->seldon-core->-r requirements.txt (line 6)) (2019.3.9)\n",
      "Build output: Requirement already satisfied: idna<2.9,>=2.5 in /usr/local/lib/python3.7/site-packages (from requests->seldon-core->-r requirements.txt (line 6)) (2.8)\n",
      "Build output: Requirement already satisfied: chardet<3.1.0,>=3.0.2 in /usr/local/lib/python3.7/site-packages (from requests->seldon-core->-r requirements.txt (line 6)) (3.0.4)\n",
      "Build output: Requirement already satisfied: click>=5.1 in /usr/local/lib/python3.7/site-packages (from flask->seldon-core->-r requirements.txt (line 6)) (7.0)\n",
      "Build output: Requirement already satisfied: Werkzeug>=0.14 in /usr/local/lib/python3.7/site-packages (from flask->seldon-core->-r requirements.txt (line 6)) (0.14.1)\n",
      "Build output: Requirement already satisfied: Jinja2>=2.10 in /usr/local/lib/python3.7/site-packages (from flask->seldon-core->-r requirements.txt (line 6)) (2.10)\n",
      "Build output: Requirement already satisfied: itsdangerous>=0.24 in /usr/local/lib/python3.7/site-packages (from flask->seldon-core->-r requirements.txt (line 6)) (1.1.0)\n",
      "Build output: Requirement already satisfied: wheel>=0.26 in /usr/local/lib/python3.7/site-packages (from tensorflow->seldon-core->-r requirements.txt (line 6)) (0.33.1)\n",
      "Build output: Requirement already satisfied: absl-py>=0.1.6 in /usr/local/lib/python3.7/site-packages (from tensorflow->seldon-core->-r requirements.txt (line 6)) (0.7.1)\n",
      "Build output: Requirement already satisfied: keras-preprocessing>=1.0.5 in /usr/local/lib/python3.7/site-packages (from tensorflow->seldon-core->-r requirements.txt (line 6)) (1.0.9)\n",
      "Build output: Requirement already satisfied: gast>=0.2.0 in /usr/local/lib/python3.7/site-packages (from tensorflow->seldon-core->-r requirements.txt (line 6)) (0.2.2)\n",
      "Build output: Requirement already satisfied: tensorflow-estimator<1.14.0rc0,>=1.13.0 in /usr/local/lib/python3.7/site-packages (from tensorflow->seldon-core->-r requirements.txt (line 6)) (1.13.0)\n",
      "Build output: Requirement already satisfied: keras-applications>=1.0.6 in /usr/local/lib/python3.7/site-packages (from tensorflow->seldon-core->-r requirements.txt (line 6)) (1.0.7)\n",
      "Build output: Requirement already satisfied: astor>=0.6.0 in /usr/local/lib/python3.7/site-packages (from tensorflow->seldon-core->-r requirements.txt (line 6)) (0.7.1)\n",
      "Build output: Requirement already satisfied: termcolor>=1.1.0 in /usr/local/lib/python3.7/site-packages (from tensorflow->seldon-core->-r requirements.txt (line 6)) (1.1.0)\n",
      "Build output: Requirement already satisfied: tensorboard<1.14.0,>=1.13.0 in /usr/local/lib/python3.7/site-packages (from tensorflow->seldon-core->-r requirements.txt (line 6)) (1.13.1)\n"
     ]
    },
    {
     "name": "stderr",
     "output_type": "stream",
     "text": [
      "Build output: Requirement already satisfied: setuptools in /usr/local/lib/python3.7/site-packages (from protobuf->seldon-core->-r requirements.txt (line 6)) (40.8.0)\n",
      "Build output: Requirement already satisfied: MarkupSafe>=0.23 in /usr/local/lib/python3.7/site-packages (from Jinja2>=2.10->flask->seldon-core->-r requirements.txt (line 6)) (1.1.1)\n",
      "Build output: Requirement already satisfied: mock>=2.0.0 in /usr/local/lib/python3.7/site-packages (from tensorflow-estimator<1.14.0rc0,>=1.13.0->tensorflow->seldon-core->-r requirements.txt (line 6)) (2.0.0)\n",
      "Build output: Requirement already satisfied: h5py in /usr/local/lib/python3.7/site-packages (from keras-applications>=1.0.6->tensorflow->seldon-core->-r requirements.txt (line 6)) (2.9.0)\n",
      "Build output: Requirement already satisfied: markdown>=2.6.8 in /usr/local/lib/python3.7/site-packages (from tensorboard<1.14.0,>=1.13.0->tensorflow->seldon-core->-r requirements.txt (line 6)) (3.0.1)\n",
      "Build output: Requirement already satisfied: pbr>=0.11 in /usr/local/lib/python3.7/site-packages (from mock>=2.0.0->tensorflow-estimator<1.14.0rc0,>=1.13.0->tensorflow->seldon-core->-r requirements.txt (line 6)) (5.1.3)\n",
      "Build output: ---> 91838369e266\n",
      "Build output: Step 6/6 : CMD python /app/function_shim.py --serialized_fn_file /app/pickled_fn.p\n",
      "Build output: \n",
      "Build output: ---> Running in be9e593df1c9\n",
      "Build output: ---> 34d25711c3a3\n",
      "Push finished: {'ID': 'sha256:34d25711c3a3678083058c59c2e379af7b712f094e5cbed999cf18d16dc00fb0'}\n",
      "Build output: Successfully built 34d25711c3a3\n",
      "Build output: Successfully tagged gcr.io/caip-dexter-bugbash/fairing-job:913FA984\n",
      "Publishing image gcr.io/caip-dexter-bugbash/fairing-job:913FA984...\n",
      "Push output: The push refers to repository [gcr.io/caip-dexter-bugbash/fairing-job] None\n",
      "Push output: Preparing None\n",
      "Push output: Preparing None\n",
      "Push output: Preparing None\n",
      "Push output: Preparing None\n",
      "Push output: Preparing None\n",
      "Push output: Preparing None\n",
      "Push output: Preparing None\n",
      "Push output: Preparing None\n",
      "Push output: Preparing None\n",
      "Push output: Preparing None\n",
      "Push output: Preparing None\n",
      "Push output: Preparing None\n",
      "Push output: Preparing None\n",
      "Push output: Preparing None\n",
      "Push output: Preparing None\n",
      "Push output: Waiting None\n",
      "Push output: Waiting None\n",
      "Push output: Waiting None\n",
      "Push output: Waiting None\n",
      "Push output: Waiting None\n",
      "Push output: Waiting None\n",
      "Push output: Waiting None\n",
      "Push output: Waiting None\n",
      "Push output: Waiting None\n",
      "Push output: Waiting None\n",
      "Push output: Pushing [>                                                  ]  1.024kB/82.44kB\n",
      "Push output: Pushing  1.536kB\n",
      "Push output: Pushing [==================================================>]  91.14kB\n",
      "Push output: Layer already exists None\n",
      "Push output: Layer already exists None\n",
      "Push output: Layer already exists None\n",
      "Push output: Layer already exists None\n",
      "Push output: Layer already exists None\n",
      "Push output: Layer already exists None\n",
      "Push output: Layer already exists None\n",
      "Push output: Layer already exists None\n",
      "Push output: Layer already exists None\n",
      "Push output: Layer already exists None\n",
      "Push output: Layer already exists None\n",
      "Push output: Layer already exists None\n",
      "Push output: Layer already exists None\n",
      "Push output: Pushed None\n",
      "Push output: Pushed None\n",
      "Push output: 913FA984: digest: sha256:951b4d4b0deb7fab073314a05c1458572d0411b9910acf5749a87ab284c737b8 size: 3477 None\n",
      "Push finished: {'Tag': '913FA984', 'Digest': 'sha256:951b4d4b0deb7fab073314a05c1458572d0411b9910acf5749a87ab284c737b8', 'Size': 3477}\n",
      "Endpoint fairing-deployer-h2dvb launched.\n"
     ]
    },
    {
     "name": "stdout",
     "output_type": "stream",
     "text": [
      "Waiting for prediction endpoint to come up...\n",
      "Prediction endpoint: http://35.222.2.191:5000/predict\n"
     ]
    }
   ],
   "source": [
    "from fairing.ml_tasks import PredictionEndpoint\n",
    "endpoint = PredictionEndpoint(HousingServe, base_image, input_files=['trained_ames_model.dat'])\n",
    "endpoint.create()"
   ]
  },
  {
   "cell_type": "markdown",
   "metadata": {},
   "source": [
    "## Making prediction calls against the endpoint"
   ]
  },
  {
   "cell_type": "code",
   "execution_count": 12,
   "metadata": {},
   "outputs": [
    {
     "name": "stdout",
     "output_type": "stream",
     "text": [
      "{\"data\":{\"names\":[\"t:0\",\"t:1\"],\"tensor\":{\"shape\":[1,2],\"values\":[108354.9609375,108354.9609375]}},\"meta\":{}}\r\n"
     ]
    }
   ],
   "source": [
    "# Copy the prediction endpoint from prev step\n",
    "!curl http://35.222.2.191:5000/predict -H \"Content-Type: application/x-www-form-urlencoded\" -d 'json={\"data\":{\"tensor\":{\"shape\":[1,37],\"values\":[1,2,3,4,5,6,7,8,9,10,11,12,13,14,15,16,17,18,19,20,21,22,23,24,25,26,27,28,29,30,31,32,33,34,35,36,37]}}}'\n",
    "        "
   ]
  },
  {
   "cell_type": "code",
   "execution_count": null,
   "metadata": {},
   "outputs": [],
   "source": []
  }
 ],
 "metadata": {
  "kernelspec": {
   "display_name": "Python 3",
   "language": "python",
   "name": "python3"
  },
  "language_info": {
   "codemirror_mode": {
    "name": "ipython",
    "version": 3
   },
   "file_extension": ".py",
   "mimetype": "text/x-python",
   "name": "python",
   "nbconvert_exporter": "python",
   "pygments_lexer": "ipython3",
   "version": "3.7.2"
  }
 },
 "nbformat": 4,
 "nbformat_minor": 2
}
