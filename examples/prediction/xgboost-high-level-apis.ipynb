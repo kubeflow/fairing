{
 "cells": [
  {
   "cell_type": "markdown",
   "metadata": {},
   "source": [
    "# Train and deploy on Kubeflow from Notebooks\n",
    "\n",
    "This notebook introduces you to using Kubeflow Fairing to train and deploy a model to Kubeflow on multiple backends such as Google Kubernetes Engine (GKE), Google Cloud ML Engine and Azure Kubernetes Service (AKS). This notebook demonstrate how to:\n",
    " \n",
    "* Train an XGBoost model in a local notebook,\n",
    "* Use Kubeflow Fairing to train an XGBoost model remotely on Kubeflow using some of the supported backends,\n",
    "* Use Kubeflow Fairing to deploy a trained model to Kubeflow, and\n",
    "* Call the deployed endpoint for predictions.\n",
    "\n",
    "To learn more about how to run this notebook locally, see the guide to [training and deploying on GCP from a local notebook][gcp-local-notebook].\n",
    "\n",
    "[gcp-local-notebook]: https://kubeflow.org/docs/fairing/gcp-local-notebook/"
   ]
  },
  {
   "cell_type": "markdown",
   "metadata": {},
   "source": [
    "## Set up your notebook for training an XGBoost model\n",
    "\n",
    "Import the libraries required to train this model."
   ]
  },
  {
   "cell_type": "code",
   "execution_count": 1,
   "metadata": {},
   "outputs": [
    {
     "name": "stdout",
     "output_type": "stream",
     "text": [
      "Requirement already satisfied: pandas in /home/coursera/anaconda3/envs/ksenv/lib/python3.6/site-packages (from -r requirements.txt (line 1)) (0.24.2)\n",
      "Requirement already satisfied: joblib in /home/coursera/anaconda3/envs/ksenv/lib/python3.6/site-packages (from -r requirements.txt (line 2)) (0.13.2)\n",
      "Requirement already satisfied: numpy in /home/coursera/anaconda3/envs/ksenv/lib/python3.6/site-packages (from -r requirements.txt (line 3)) (1.16.4)\n",
      "Requirement already satisfied: xgboost in /home/coursera/anaconda3/envs/ksenv/lib/python3.6/site-packages (from -r requirements.txt (line 4)) (0.90)\n",
      "Requirement already satisfied: scikit-learn>=0.21.0 in /home/coursera/anaconda3/envs/ksenv/lib/python3.6/site-packages (from -r requirements.txt (line 5)) (0.21.2)\n",
      "Requirement already satisfied: seldon-core in /home/coursera/anaconda3/envs/ksenv/lib/python3.6/site-packages (from -r requirements.txt (line 6)) (0.4.0)\n",
      "Requirement already satisfied: tornado>=6.0.3 in /home/coursera/anaconda3/envs/ksenv/lib/python3.6/site-packages (from -r requirements.txt (line 7)) (6.0.3)\n",
      "Requirement already satisfied: python-dateutil>=2.5.0 in /home/coursera/anaconda3/envs/ksenv/lib/python3.6/site-packages (from pandas->-r requirements.txt (line 1)) (2.8.0)\n",
      "Requirement already satisfied: pytz>=2011k in /home/coursera/anaconda3/envs/ksenv/lib/python3.6/site-packages (from pandas->-r requirements.txt (line 1)) (2019.1)\n",
      "Requirement already satisfied: scipy in /home/coursera/anaconda3/envs/ksenv/lib/python3.6/site-packages (from xgboost->-r requirements.txt (line 4)) (1.3.0)\n",
      "Requirement already satisfied: flask-cors in /home/coursera/anaconda3/envs/ksenv/lib/python3.6/site-packages (from seldon-core->-r requirements.txt (line 6)) (3.0.8)\n",
      "Requirement already satisfied: tensorflow in /home/coursera/anaconda3/envs/ksenv/lib/python3.6/site-packages (from seldon-core->-r requirements.txt (line 6)) (1.14.0)\n",
      "Requirement already satisfied: minio>=4.0.9 in /home/coursera/anaconda3/envs/ksenv/lib/python3.6/site-packages (from seldon-core->-r requirements.txt (line 6)) (4.0.21)\n",
      "Requirement already satisfied: Flask-OpenTracing==0.2.0 in /home/coursera/anaconda3/envs/ksenv/lib/python3.6/site-packages (from seldon-core->-r requirements.txt (line 6)) (0.2.0)\n",
      "Requirement already satisfied: grpcio in /home/coursera/anaconda3/envs/ksenv/lib/python3.6/site-packages (from seldon-core->-r requirements.txt (line 6)) (1.22.0)\n",
      "Requirement already satisfied: protobuf in /home/coursera/anaconda3/envs/ksenv/lib/python3.6/site-packages (from seldon-core->-r requirements.txt (line 6)) (3.8.0)\n",
      "Requirement already satisfied: grpcio-opentracing in /home/coursera/anaconda3/envs/ksenv/lib/python3.6/site-packages (from seldon-core->-r requirements.txt (line 6)) (1.1.4)\n",
      "Requirement already satisfied: flask in /home/coursera/anaconda3/envs/ksenv/lib/python3.6/site-packages (from seldon-core->-r requirements.txt (line 6)) (1.1.1)\n",
      "Requirement already satisfied: google-cloud-storage>=1.16.0 in /home/coursera/anaconda3/envs/ksenv/lib/python3.6/site-packages (from seldon-core->-r requirements.txt (line 6)) (1.16.1)\n",
      "Requirement already satisfied: redis in /home/coursera/anaconda3/envs/ksenv/lib/python3.6/site-packages (from seldon-core->-r requirements.txt (line 6)) (3.3.8)\n",
      "Requirement already satisfied: opentracing<2,>=1.2.2 in /home/coursera/anaconda3/envs/ksenv/lib/python3.6/site-packages (from seldon-core->-r requirements.txt (line 6)) (1.3.0)\n",
      "Requirement already satisfied: requests in /home/coursera/anaconda3/envs/ksenv/lib/python3.6/site-packages (from seldon-core->-r requirements.txt (line 6)) (2.22.0)\n",
      "Requirement already satisfied: flatbuffers in /home/coursera/anaconda3/envs/ksenv/lib/python3.6/site-packages (from seldon-core->-r requirements.txt (line 6)) (1.11)\n",
      "Requirement already satisfied: pyyaml in /home/coursera/anaconda3/envs/ksenv/lib/python3.6/site-packages (from seldon-core->-r requirements.txt (line 6)) (5.1.1)\n",
      "Requirement already satisfied: jaeger-client==3.13.0 in /home/coursera/anaconda3/envs/ksenv/lib/python3.6/site-packages (from seldon-core->-r requirements.txt (line 6)) (3.13.0)\n",
      "Requirement already satisfied: gunicorn>=19.9.0 in /home/coursera/anaconda3/envs/ksenv/lib/python3.6/site-packages (from seldon-core->-r requirements.txt (line 6)) (19.9.0)\n",
      "Requirement already satisfied: azure-storage-blob>=2.0.1 in /home/coursera/anaconda3/envs/ksenv/lib/python3.6/site-packages (from seldon-core->-r requirements.txt (line 6)) (2.1.0)\n",
      "Requirement already satisfied: six>=1.5 in /home/coursera/anaconda3/envs/ksenv/lib/python3.6/site-packages (from python-dateutil>=2.5.0->pandas->-r requirements.txt (line 1)) (1.12.0)\n",
      "Requirement already satisfied: wrapt>=1.11.1 in /home/coursera/anaconda3/envs/ksenv/lib/python3.6/site-packages (from tensorflow->seldon-core->-r requirements.txt (line 6)) (1.11.2)\n",
      "Requirement already satisfied: gast>=0.2.0 in /home/coursera/anaconda3/envs/ksenv/lib/python3.6/site-packages (from tensorflow->seldon-core->-r requirements.txt (line 6)) (0.2.2)\n",
      "Requirement already satisfied: absl-py>=0.7.0 in /home/coursera/anaconda3/envs/ksenv/lib/python3.6/site-packages (from tensorflow->seldon-core->-r requirements.txt (line 6)) (0.7.1)\n",
      "Requirement already satisfied: wheel>=0.26 in /home/coursera/anaconda3/envs/ksenv/lib/python3.6/site-packages (from tensorflow->seldon-core->-r requirements.txt (line 6)) (0.29.0)\n",
      "Requirement already satisfied: keras-applications>=1.0.6 in /home/coursera/anaconda3/envs/ksenv/lib/python3.6/site-packages (from tensorflow->seldon-core->-r requirements.txt (line 6)) (1.0.8)\n",
      "Requirement already satisfied: tensorboard<1.15.0,>=1.14.0 in /home/coursera/anaconda3/envs/ksenv/lib/python3.6/site-packages (from tensorflow->seldon-core->-r requirements.txt (line 6)) (1.14.0)\n",
      "Requirement already satisfied: google-pasta>=0.1.6 in /home/coursera/anaconda3/envs/ksenv/lib/python3.6/site-packages (from tensorflow->seldon-core->-r requirements.txt (line 6)) (0.1.7)\n",
      "Requirement already satisfied: termcolor>=1.1.0 in /home/coursera/anaconda3/envs/ksenv/lib/python3.6/site-packages (from tensorflow->seldon-core->-r requirements.txt (line 6)) (1.1.0)\n",
      "Requirement already satisfied: keras-preprocessing>=1.0.5 in /home/coursera/anaconda3/envs/ksenv/lib/python3.6/site-packages (from tensorflow->seldon-core->-r requirements.txt (line 6)) (1.1.0)\n",
      "Requirement already satisfied: astor>=0.6.0 in /home/coursera/anaconda3/envs/ksenv/lib/python3.6/site-packages (from tensorflow->seldon-core->-r requirements.txt (line 6)) (0.8.0)\n",
      "Requirement already satisfied: tensorflow-estimator<1.15.0rc0,>=1.14.0rc0 in /home/coursera/anaconda3/envs/ksenv/lib/python3.6/site-packages (from tensorflow->seldon-core->-r requirements.txt (line 6)) (1.14.0)\n",
      "Requirement already satisfied: certifi in /home/coursera/anaconda3/envs/ksenv/lib/python3.6/site-packages (from minio>=4.0.9->seldon-core->-r requirements.txt (line 6)) (2019.6.16)\n",
      "Requirement already satisfied: urllib3 in /home/coursera/anaconda3/envs/ksenv/lib/python3.6/site-packages (from minio>=4.0.9->seldon-core->-r requirements.txt (line 6)) (1.24.2)\n",
      "Requirement already satisfied: future in /home/coursera/anaconda3/envs/ksenv/lib/python3.6/site-packages (from minio>=4.0.9->seldon-core->-r requirements.txt (line 6)) (0.17.1)\n",
      "Requirement already satisfied: setuptools in /home/coursera/anaconda3/envs/ksenv/lib/python3.6/site-packages (from protobuf->seldon-core->-r requirements.txt (line 6)) (36.4.0)\n",
      "Requirement already satisfied: click>=5.1 in /home/coursera/anaconda3/envs/ksenv/lib/python3.6/site-packages (from flask->seldon-core->-r requirements.txt (line 6)) (7.0)\n",
      "Requirement already satisfied: Werkzeug>=0.15 in /home/coursera/anaconda3/envs/ksenv/lib/python3.6/site-packages (from flask->seldon-core->-r requirements.txt (line 6)) (0.15.4)\n",
      "Requirement already satisfied: itsdangerous>=0.24 in /home/coursera/anaconda3/envs/ksenv/lib/python3.6/site-packages (from flask->seldon-core->-r requirements.txt (line 6)) (1.1.0)\n",
      "Requirement already satisfied: Jinja2>=2.10.1 in /home/coursera/anaconda3/envs/ksenv/lib/python3.6/site-packages (from flask->seldon-core->-r requirements.txt (line 6)) (2.10.1)\n",
      "Requirement already satisfied: google-cloud-core<2.0dev,>=1.0.0 in /home/coursera/anaconda3/envs/ksenv/lib/python3.6/site-packages (from google-cloud-storage>=1.16.0->seldon-core->-r requirements.txt (line 6)) (1.0.2)\n"
     ]
    },
    {
     "name": "stdout",
     "output_type": "stream",
     "text": [
      "Requirement already satisfied: google-auth>=1.2.0 in /home/coursera/anaconda3/envs/ksenv/lib/python3.6/site-packages (from google-cloud-storage>=1.16.0->seldon-core->-r requirements.txt (line 6)) (1.6.3)\n",
      "Requirement already satisfied: google-resumable-media>=0.3.1 in /home/coursera/anaconda3/envs/ksenv/lib/python3.6/site-packages (from google-cloud-storage>=1.16.0->seldon-core->-r requirements.txt (line 6)) (0.3.2)\n",
      "Requirement already satisfied: chardet<3.1.0,>=3.0.2 in /home/coursera/anaconda3/envs/ksenv/lib/python3.6/site-packages (from requests->seldon-core->-r requirements.txt (line 6)) (3.0.4)\n",
      "Requirement already satisfied: idna<2.9,>=2.5 in /home/coursera/anaconda3/envs/ksenv/lib/python3.6/site-packages (from requests->seldon-core->-r requirements.txt (line 6)) (2.8)\n",
      "Requirement already satisfied: thrift in /home/coursera/anaconda3/envs/ksenv/lib/python3.6/site-packages (from jaeger-client==3.13.0->seldon-core->-r requirements.txt (line 6)) (0.11.0)\n",
      "Requirement already satisfied: threadloop<2,>=1 in /home/coursera/anaconda3/envs/ksenv/lib/python3.6/site-packages (from jaeger-client==3.13.0->seldon-core->-r requirements.txt (line 6)) (1.0.2)\n",
      "Requirement already satisfied: azure-common>=1.1.5 in /home/coursera/anaconda3/envs/ksenv/lib/python3.6/site-packages (from azure-storage-blob>=2.0.1->seldon-core->-r requirements.txt (line 6)) (1.1.23)\n",
      "Requirement already satisfied: azure-storage-common~=2.1 in /home/coursera/anaconda3/envs/ksenv/lib/python3.6/site-packages (from azure-storage-blob>=2.0.1->seldon-core->-r requirements.txt (line 6)) (2.1.0)\n",
      "Requirement already satisfied: h5py in /home/coursera/anaconda3/envs/ksenv/lib/python3.6/site-packages (from keras-applications>=1.0.6->tensorflow->seldon-core->-r requirements.txt (line 6)) (2.9.0)\n",
      "Requirement already satisfied: markdown>=2.6.8 in /home/coursera/anaconda3/envs/ksenv/lib/python3.6/site-packages (from tensorboard<1.15.0,>=1.14.0->tensorflow->seldon-core->-r requirements.txt (line 6)) (3.1.1)\n",
      "Requirement already satisfied: MarkupSafe>=0.23 in /home/coursera/anaconda3/envs/ksenv/lib/python3.6/site-packages (from Jinja2>=2.10.1->flask->seldon-core->-r requirements.txt (line 6)) (1.1.1)\n",
      "Requirement already satisfied: google-api-core<2.0.0dev,>=1.11.0 in /home/coursera/anaconda3/envs/ksenv/lib/python3.6/site-packages (from google-cloud-core<2.0dev,>=1.0.0->google-cloud-storage>=1.16.0->seldon-core->-r requirements.txt (line 6)) (1.13.0)\n",
      "Requirement already satisfied: rsa>=3.1.4 in /home/coursera/anaconda3/envs/ksenv/lib/python3.6/site-packages (from google-auth>=1.2.0->google-cloud-storage>=1.16.0->seldon-core->-r requirements.txt (line 6)) (4.0)\n",
      "Requirement already satisfied: pyasn1-modules>=0.2.1 in /home/coursera/anaconda3/envs/ksenv/lib/python3.6/site-packages (from google-auth>=1.2.0->google-cloud-storage>=1.16.0->seldon-core->-r requirements.txt (line 6)) (0.2.5)\n",
      "Requirement already satisfied: cachetools>=2.0.0 in /home/coursera/anaconda3/envs/ksenv/lib/python3.6/site-packages (from google-auth>=1.2.0->google-cloud-storage>=1.16.0->seldon-core->-r requirements.txt (line 6)) (3.1.1)\n",
      "Requirement already satisfied: cryptography in /home/coursera/anaconda3/envs/ksenv/lib/python3.6/site-packages (from azure-storage-common~=2.1->azure-storage-blob>=2.0.1->seldon-core->-r requirements.txt (line 6)) (2.7)\n",
      "Requirement already satisfied: googleapis-common-protos!=1.5.4,<2.0dev,>=1.5.3 in /home/coursera/anaconda3/envs/ksenv/lib/python3.6/site-packages (from google-api-core<2.0.0dev,>=1.11.0->google-cloud-core<2.0dev,>=1.0.0->google-cloud-storage>=1.16.0->seldon-core->-r requirements.txt (line 6)) (1.6.0)\n",
      "Requirement already satisfied: pyasn1>=0.1.3 in /home/coursera/anaconda3/envs/ksenv/lib/python3.6/site-packages (from rsa>=3.1.4->google-auth>=1.2.0->google-cloud-storage>=1.16.0->seldon-core->-r requirements.txt (line 6)) (0.4.5)\n",
      "Requirement already satisfied: cffi!=1.11.3,>=1.8 in /home/coursera/anaconda3/envs/ksenv/lib/python3.6/site-packages (from cryptography->azure-storage-common~=2.1->azure-storage-blob>=2.0.1->seldon-core->-r requirements.txt (line 6)) (1.12.3)\n",
      "Requirement already satisfied: asn1crypto>=0.21.0 in /home/coursera/anaconda3/envs/ksenv/lib/python3.6/site-packages (from cryptography->azure-storage-common~=2.1->azure-storage-blob>=2.0.1->seldon-core->-r requirements.txt (line 6)) (0.24.0)\n",
      "Requirement already satisfied: pycparser in /home/coursera/anaconda3/envs/ksenv/lib/python3.6/site-packages (from cffi!=1.11.3,>=1.8->cryptography->azure-storage-common~=2.1->azure-storage-blob>=2.0.1->seldon-core->-r requirements.txt (line 6)) (2.19)\n",
      "\u001b[33mWARNING: You are using pip version 19.1.1, however version 19.2.3 is available.\n",
      "You should consider upgrading via the 'pip install --upgrade pip' command.\u001b[0m\n"
     ]
    }
   ],
   "source": [
    "!pip install -r requirements.txt"
   ]
  },
  {
   "cell_type": "code",
   "execution_count": 2,
   "metadata": {},
   "outputs": [],
   "source": [
    "import argparse\n",
    "import logging\n",
    "import joblib\n",
    "import sys\n",
    "import pandas as pd\n",
    "from sklearn.metrics import mean_absolute_error\n",
    "from sklearn.model_selection import train_test_split\n",
    "from sklearn.impute import SimpleImputer\n",
    "from xgboost import XGBRegressor"
   ]
  },
  {
   "cell_type": "code",
   "execution_count": 3,
   "metadata": {},
   "outputs": [],
   "source": [
    "logging.basicConfig(format='%(message)s')\n",
    "logging.getLogger().setLevel(logging.INFO)"
   ]
  },
  {
   "cell_type": "markdown",
   "metadata": {},
   "source": [
    "Define a function to split the input file into training and testing datasets."
   ]
  },
  {
   "cell_type": "code",
   "execution_count": 4,
   "metadata": {},
   "outputs": [],
   "source": [
    "def read_input(file_name, test_size=0.25):\n",
    "    \"\"\"Read input data and split it into train and test.\"\"\"\n",
    "    data = pd.read_csv(file_name)\n",
    "    data.dropna(axis=0, subset=['SalePrice'], inplace=True)\n",
    "\n",
    "    y = data.SalePrice\n",
    "    X = data.drop(['SalePrice'], axis=1).select_dtypes(exclude=['object'])\n",
    "\n",
    "    train_X, test_X, train_y, test_y = train_test_split(X.values,\n",
    "                                                      y.values,\n",
    "                                                      test_size=test_size,\n",
    "                                                      shuffle=False)\n",
    "\n",
    "    imputer = SimpleImputer()\n",
    "    train_X = imputer.fit_transform(train_X)\n",
    "    test_X = imputer.transform(test_X)\n",
    "\n",
    "    return (train_X, train_y), (test_X, test_y)"
   ]
  },
  {
   "cell_type": "markdown",
   "metadata": {},
   "source": [
    "Define functions to train, evaluate, and save the trained model."
   ]
  },
  {
   "cell_type": "code",
   "execution_count": 5,
   "metadata": {},
   "outputs": [],
   "source": [
    "def train_model(train_X,\n",
    "                train_y,\n",
    "                test_X,\n",
    "                test_y,\n",
    "                n_estimators,\n",
    "                learning_rate):\n",
    "    \"\"\"Train the model using XGBRegressor.\"\"\"\n",
    "    model = XGBRegressor(n_estimators=n_estimators, learning_rate=learning_rate)\n",
    "\n",
    "    model.fit(train_X,\n",
    "            train_y,\n",
    "            early_stopping_rounds=40,\n",
    "            eval_set=[(test_X, test_y)])\n",
    "\n",
    "    print(\"Best RMSE on eval: %.2f with %d rounds\" %\n",
    "               (model.best_score,\n",
    "                model.best_iteration+1))\n",
    "    return model\n",
    "\n",
    "def eval_model(model, test_X, test_y):\n",
    "    \"\"\"Evaluate the model performance.\"\"\"\n",
    "    predictions = model.predict(test_X)\n",
    "    logging.info(\"mean_absolute_error=%.2f\", mean_absolute_error(predictions, test_y))\n",
    "\n",
    "def save_model(model, model_file):\n",
    "    \"\"\"Save XGBoost model for serving.\"\"\"\n",
    "    joblib.dump(model, model_file)\n",
    "    logging.info(\"Model export success: %s\", model_file)"
   ]
  },
  {
   "cell_type": "markdown",
   "metadata": {},
   "source": [
    "Define a class for your model, with methods for training and prediction."
   ]
  },
  {
   "cell_type": "code",
   "execution_count": 6,
   "metadata": {},
   "outputs": [],
   "source": [
    "class HousingServe(object):\n",
    "    \n",
    "    def __init__(self):\n",
    "        self.train_input = \"ames_dataset/train.csv\"\n",
    "        self.n_estimators = 50\n",
    "        self.learning_rate = 0.1\n",
    "        self.model_file = \"trained_ames_model.dat\"\n",
    "        self.model = None\n",
    "\n",
    "    def train(self):\n",
    "        (train_X, train_y), (test_X, test_y) = read_input(self.train_input)\n",
    "        model = train_model(train_X,\n",
    "                          train_y,\n",
    "                          test_X,\n",
    "                          test_y,\n",
    "                          self.n_estimators,\n",
    "                          self.learning_rate)\n",
    "\n",
    "        eval_model(model, test_X, test_y)\n",
    "        save_model(model, self.model_file)\n",
    "\n",
    "    def predict(self, X, feature_names=None):\n",
    "        \"\"\"Predict using the model for given ndarray.\"\"\"\n",
    "        if not self.model:\n",
    "            self.model = joblib.load(self.model_file)\n",
    "        # Do any preprocessing\n",
    "        prediction = self.model.predict(data=X)\n",
    "        # Do any postprocessing\n",
    "        return prediction"
   ]
  },
  {
   "cell_type": "markdown",
   "metadata": {},
   "source": [
    "## Train an XGBoost model in a notebook\n",
    "\n",
    "Call `HousingServe().train()` to train your model, and then evaluate and save your trained model."
   ]
  },
  {
   "cell_type": "code",
   "execution_count": 7,
   "metadata": {},
   "outputs": [
    {
     "name": "stdout",
     "output_type": "stream",
     "text": [
      "[09:24:39] WARNING: /workspace/src/objective/regression_obj.cu:152: reg:linear is now deprecated in favor of reg:squarederror.\n",
      "[0]\tvalidation_0-rmse:177514\n",
      "Will train until validation_0-rmse hasn't improved in 40 rounds.\n",
      "[1]\tvalidation_0-rmse:161858\n",
      "[2]\tvalidation_0-rmse:147237\n",
      "[3]\tvalidation_0-rmse:134132\n",
      "[4]\tvalidation_0-rmse:122224\n",
      "[5]\tvalidation_0-rmse:111538\n",
      "[6]\tvalidation_0-rmse:102142\n",
      "[7]\tvalidation_0-rmse:93392.3\n",
      "[8]\tvalidation_0-rmse:85824.6\n",
      "[9]\tvalidation_0-rmse:79667.6\n",
      "[10]\tvalidation_0-rmse:73463.4\n",
      "[11]\tvalidation_0-rmse:68059.4\n",
      "[12]\tvalidation_0-rmse:63350.5\n",
      "[13]\tvalidation_0-rmse:59732.1\n",
      "[14]\tvalidation_0-rmse:56260.7\n",
      "[15]\tvalidation_0-rmse:53392.6\n",
      "[16]\tvalidation_0-rmse:50770.8\n",
      "[17]\tvalidation_0-rmse:48107.8\n",
      "[18]\tvalidation_0-rmse:45923.9\n",
      "[19]\tvalidation_0-rmse:44154.2\n",
      "[20]\tvalidation_0-rmse:42488.1\n",
      "[21]\tvalidation_0-rmse:41263.3\n",
      "[22]\tvalidation_0-rmse:40212.8\n",
      "[23]\tvalidation_0-rmse:39089.1\n",
      "[24]\tvalidation_0-rmse:37691.1\n",
      "[25]\tvalidation_0-rmse:36875.2\n",
      "[26]\tvalidation_0-rmse:36276.2\n",
      "[27]\tvalidation_0-rmse:35444.1\n",
      "[28]\tvalidation_0-rmse:34831.5\n",
      "[29]\tvalidation_0-rmse:34205.4\n",
      "[30]\tvalidation_0-rmse:33831.9\n",
      "[31]\tvalidation_0-rmse:33183.6\n",
      "[32]\tvalidation_0-rmse:33019.4\n",
      "[33]\tvalidation_0-rmse:32680\n",
      "[34]\tvalidation_0-rmse:32438.5\n",
      "[35]\tvalidation_0-rmse:32130.4\n",
      "[36]\tvalidation_0-rmse:31644.2\n",
      "[37]\tvalidation_0-rmse:31248.9\n",
      "[38]\tvalidation_0-rmse:31059.8\n",
      "[39]\tvalidation_0-rmse:30862.4\n",
      "[40]\tvalidation_0-rmse:30754\n",
      "[41]\tvalidation_0-rmse:30561.6\n",
      "[42]\tvalidation_0-rmse:30416.9\n",
      "[43]\tvalidation_0-rmse:30156.4\n",
      "[44]\tvalidation_0-rmse:29852.9\n",
      "[45]\tvalidation_0-rmse:29486.6\n",
      "[46]\tvalidation_0-rmse:29158.8\n",
      "[47]\tvalidation_0-rmse:29017\n",
      "[48]\tvalidation_0-rmse:28973.9\n",
      "[49]\tvalidation_0-rmse:28787.7\n"
     ]
    },
    {
     "name": "stderr",
     "output_type": "stream",
     "text": [
      "mean_absolute_error=18173.15\n"
     ]
    },
    {
     "name": "stdout",
     "output_type": "stream",
     "text": [
      "Best RMSE on eval: 28787.72 with 50 rounds\n"
     ]
    },
    {
     "name": "stderr",
     "output_type": "stream",
     "text": [
      "Model export success: trained_ames_model.dat\n"
     ]
    }
   ],
   "source": [
    "HousingServe().train()"
   ]
  },
  {
   "cell_type": "markdown",
   "metadata": {},
   "source": [
    "## Set up Kubeflow Fairing for training and predictions\n",
    "\n",
    "Import the `fairing` library and configure the backend environment that your training or prediction job will run in."
   ]
  },
  {
   "cell_type": "code",
   "execution_count": 17,
   "metadata": {
    "tags": [
     "parameters"
    ]
   },
   "outputs": [],
   "source": [
    "import fairing\n",
    "\n",
    "# Default to using the GKE backend.\n",
    "FAIRING_BACKEND = 'KubeflowGKEBackend'\n",
    "\n",
    "# If using KubeflowAzureBackend and unless passed to notebook as parameters,\n",
    "# replace below with your configuration (remove < and > characters).\n",
    "DOCKER_REGISTRY = '<your_registry>.azurecr.io'\n",
    "AZURE_REGION = '<your_region>'\n",
    "AZURE_RESOURCE_GROUP = '<your_resource_group>'\n",
    "AZURE_STORAGE_ACCOUNT = '<your_storage_account>'\n",
    "\n",
    "pod_spec_mutators = None\n",
    "FAIRING_BACKEND = 'KubernetesBackend'"
   ]
  },
  {
   "cell_type": "code",
   "execution_count": 21,
   "metadata": {},
   "outputs": [],
   "source": [
    "import importlib\n",
    "\n",
    "# The logic in this cell demonstrates what to change\n",
    "# if wanting to use a different backend such as Cloud ML Engine (GCPManagedBackend) or\n",
    "# AKS (KubeflowAzureBackend). This cell is also parametrized so that it allows programmatic\n",
    "# execution of the notebook using different backends.\n",
    "\n",
    "if FAIRING_BACKEND in ['KubeflowGKEBackend', 'GCPManagedBackend']:\n",
    "    # Setting up google container repositories (GCR) for storing output containers\n",
    "    GCP_PROJECT = fairing.cloud.gcp.guess_project_name()\n",
    "    DOCKER_REGISTRY = 'gcr.io/{}/fairing-job'.format(GCP_PROJECT)\n",
    "    BuildContext = None\n",
    "if FAIRING_BACKEND == 'KubeflowAzureBackend':\n",
    "    from fairing.builders.cluster.azurestorage_context import StorageContextSource\n",
    "    BuildContext = StorageContextSource(\n",
    "        region=AZURE_REGION, resource_group_name=AZURE_RESOURCE_GROUP,\n",
    "        storage_account_name=AZURE_STORAGE_ACCOUNT\n",
    "    )\n",
    "if FAIRING_BACKEND == 'KubernetesBackend':\n",
    "    DOCKER_REGISTRY = 'shikhabitgrit'\n",
    "    pod_spec_mutators=[fairing.cloud.docker.add_docker_credentials_if_exists]\n",
    "    BuildContext = None\n",
    "    \n",
    "BackendClass = getattr(importlib.import_module('fairing.backends'), FAIRING_BACKEND)"
   ]
  },
  {
   "cell_type": "code",
   "execution_count": 19,
   "metadata": {},
   "outputs": [
    {
     "name": "stdout",
     "output_type": "stream",
     "text": [
      "KubernetesBackend\n"
     ]
    }
   ],
   "source": [
    "print(FAIRING_BACKEND)"
   ]
  },
  {
   "cell_type": "markdown",
   "metadata": {},
   "source": [
    "## Train an XGBoost model remotely on Kubeflow\n",
    "\n",
    "Import the `TrainJob` and use the configured backend class. Kubeflow Fairing packages the `HousingServe` class, the training data, and the training job's software prerequisites as a Docker image. Then Kubeflow Fairing deploys and runs the training job on Kubeflow."
   ]
  },
  {
   "cell_type": "code",
   "execution_count": null,
   "metadata": {
    "scrolled": false
   },
   "outputs": [
    {
     "name": "stderr",
     "output_type": "stream",
     "text": [
      "Can't determine namespace automatically. Using 'default' namespace but recomend to provide namespace explicitly. Using 'default' namespace might result in unable to mount some required secrets in cloud backends.\n",
      "Using default base docker image: registry.hub.docker.com/library/python:3.6.2\n",
      "Using builder: <class 'fairing.builders.docker.docker.DockerBuilder'>\n",
      "Building the docker image.\n",
      "Building image using docker\n",
      "Docker command: ['python', '/app/function_shim.py', '--serialized_fn_file', '/app/pickled_fn.p', '--python_version', '3.6.2']\n",
      "/home/coursera/anaconda3/envs/ksenv/lib/python3.6/site-packages/fairing/__init__.py already exists in Fairing context, skipping...\n",
      "Creating docker context: /tmp/fairing_context_b221_17m\n",
      "/home/coursera/anaconda3/envs/ksenv/lib/python3.6/site-packages/fairing/__init__.py already exists in Fairing context, skipping...\n",
      "Building docker image shikhabitgrit/fairing-job:FC1258EC...\n",
      "Build output: Step 1/7 : FROM registry.hub.docker.com/library/python:3.6.2\n",
      "Build output: \n",
      "Build output: ---> 26acbad26a2c\n",
      "Build output: Step 2/7 : WORKDIR /app/\n",
      "Build output: \n",
      "Build output: ---> Using cache\n",
      "Build output: ---> 53b4608f0bf4\n",
      "Build output: Step 3/7 : ENV FAIRING_RUNTIME 1\n",
      "Build output: \n",
      "Build output: ---> Using cache\n",
      "Build output: ---> d8d0661d7848\n",
      "Build output: Step 4/7 : COPY /app//requirements.txt /app/\n",
      "Build output: \n",
      "Build output: ---> Using cache\n",
      "Build output: ---> b090421679de\n",
      "Build output: Step 5/7 : RUN if [ -e requirements.txt ];then pip install --no-cache -r requirements.txt; fi\n",
      "Build output: \n",
      "Build output: ---> Running in f5da64b179ae\n",
      "Build output: Collecting pandas (from -r requirements.txt (line 1))\n",
      "Build output: Downloading https://files.pythonhosted.org/packages/73/9b/52e228545d14f14bb2a1622e225f38463c8726645165e1cb7dde95bfe6d4/pandas-0.25.1-cp36-cp36m-manylinux1_x86_64.whl (10.5MB)\n",
      "Build output: Collecting joblib (from -r requirements.txt (line 2))\n",
      "Build output: Downloading https://files.pythonhosted.org/packages/cd/c1/50a758e8247561e58cb87305b1e90b171b8c767b15b12a1734001f41d356/joblib-0.13.2-py2.py3-none-any.whl (278kB)\n",
      "Build output: Collecting numpy (from -r requirements.txt (line 3))\n",
      "Build output: Downloading https://files.pythonhosted.org/packages/75/92/57179ed45307ec6179e344231c47da7f3f3da9e2eee5c8ab506bd279ce4e/numpy-1.17.1-cp36-cp36m-manylinux1_x86_64.whl (20.4MB)\n",
      "Build output: Collecting xgboost (from -r requirements.txt (line 4))\n",
      "Build output: Downloading https://files.pythonhosted.org/packages/c1/24/5fe7237b2eca13ee0cfb100bec8c23f4e69ce9df852a64b0493d49dae4e0/xgboost-0.90-py2.py3-none-manylinux1_x86_64.whl (142.8MB)\n",
      "Build output: Collecting scikit-learn>=0.21.0 (from -r requirements.txt (line 5))\n",
      "Build output: Downloading https://files.pythonhosted.org/packages/a0/c5/d2238762d780dde84a20b8c761f563fe882b88c5a5fb03c056547c442a19/scikit_learn-0.21.3-cp36-cp36m-manylinux1_x86_64.whl (6.7MB)\n",
      "Build output: Collecting seldon-core (from -r requirements.txt (line 6))\n",
      "Build output: Downloading https://files.pythonhosted.org/packages/1d/38/22f1613d834e4e7fd13b816975f63d8ba8d5666423a4a278bfbc90cd16f6/seldon_core-0.4.0-py3-none-any.whl (43kB)\n",
      "Build output: Collecting tornado>=6.0.3 (from -r requirements.txt (line 7))\n",
      "Build output: Downloading https://files.pythonhosted.org/packages/30/78/2d2823598496127b21423baffaa186b668f73cd91887fcef78b6eade136b/tornado-6.0.3.tar.gz (482kB)\n",
      "Build output: Collecting python-dateutil>=2.6.1 (from pandas->-r requirements.txt (line 1))\n",
      "Build output: Downloading https://files.pythonhosted.org/packages/41/17/c62faccbfbd163c7f57f3844689e3a78bae1f403648a6afb1d0866d87fbb/python_dateutil-2.8.0-py2.py3-none-any.whl (226kB)\n",
      "Build output: Collecting pytz>=2017.2 (from pandas->-r requirements.txt (line 1))\n",
      "Build output: Downloading https://files.pythonhosted.org/packages/87/76/46d697698a143e05f77bec5a526bf4e56a0be61d63425b68f4ba553b51f2/pytz-2019.2-py2.py3-none-any.whl (508kB)\n",
      "Build output: Collecting scipy (from xgboost->-r requirements.txt (line 4))\n",
      "Build output: Downloading https://files.pythonhosted.org/packages/29/50/a552a5aff252ae915f522e44642bb49a7b7b31677f9580cfd11bcc869976/scipy-1.3.1-cp36-cp36m-manylinux1_x86_64.whl (25.2MB)\n",
      "Build output: Collecting opentracing<2,>=1.2.2 (from seldon-core->-r requirements.txt (line 6))\n",
      "Build output: Downloading https://files.pythonhosted.org/packages/06/c2/90b35a1abdc639a5c6000d8202c70217d60e80f5b328870efb73fda71115/opentracing-1.3.0.tar.gz\n",
      "Build output: Collecting Flask-OpenTracing==0.2.0 (from seldon-core->-r requirements.txt (line 6))\n",
      "Build output: Downloading https://files.pythonhosted.org/packages/1d/c4/0546b854a3f42af9ef959df9bd1108903698e175e7a07c057cdfaeeef718/Flask_OpenTracing-0.2.0-py2.py3-none-any.whl\n",
      "Build output: Collecting redis (from seldon-core->-r requirements.txt (line 6))\n",
      "Build output: Downloading https://files.pythonhosted.org/packages/bd/64/b1e90af9bf0c7f6ef55e46b81ab527b33b785824d65300bb65636534b530/redis-3.3.8-py2.py3-none-any.whl (66kB)\n",
      "Build output: Collecting flask-cors (from seldon-core->-r requirements.txt (line 6))\n",
      "Build output: Downloading https://files.pythonhosted.org/packages/78/38/e68b11daa5d613e3a91e4bf3da76c94ac9ee0d9cd515af9c1ab80d36f709/Flask_Cors-3.0.8-py2.py3-none-any.whl\n",
      "Build output: Collecting gunicorn>=19.9.0 (from seldon-core->-r requirements.txt (line 6))\n",
      "Build output: Downloading https://files.pythonhosted.org/packages/8c/da/b8dd8deb741bff556db53902d4706774c8e1e67265f69528c14c003644e6/gunicorn-19.9.0-py2.py3-none-any.whl (112kB)\n",
      "Build output: Collecting grpcio-opentracing (from seldon-core->-r requirements.txt (line 6))\n",
      "Build output: Downloading https://files.pythonhosted.org/packages/db/82/2fcad380697c3dab25de76ee590bcab3eb9bbfb4add916044d7e83ec2b10/grpcio_opentracing-1.1.4-py3-none-any.whl\n",
      "Build output: Collecting google-cloud-storage>=1.16.0 (from seldon-core->-r requirements.txt (line 6))\n",
      "Build output: Downloading https://files.pythonhosted.org/packages/10/5b/814395245911e610462cfa4b11e2162e52b37364715e946e50cea520f257/google_cloud_storage-1.19.0-py2.py3-none-any.whl (69kB)\n",
      "Build output: Collecting minio>=4.0.9 (from seldon-core->-r requirements.txt (line 6))\n",
      "Build output: Downloading https://files.pythonhosted.org/packages/1a/59/19a86d404e15f6e09f5b1f8abc9c6c2cdf5f40606ce8effa220eaf5887b0/minio-4.0.21-py2.py3-none-any.whl (60kB)\n",
      "Build output: Collecting pyyaml (from seldon-core->-r requirements.txt (line 6))\n",
      "Build output: Downloading https://files.pythonhosted.org/packages/e3/e8/b3212641ee2718d556df0f23f78de8303f068fe29cdaa7a91018849582fe/PyYAML-5.1.2.tar.gz (265kB)\n",
      "Build output: Collecting requests (from seldon-core->-r requirements.txt (line 6))\n",
      "Build output: Downloading https://files.pythonhosted.org/packages/51/bd/23c926cd341ea6b7dd0b2a00aba99ae0f828be89d72b2190f27c11d4b7fb/requests-2.22.0-py2.py3-none-any.whl (57kB)\n",
      "Build output: Collecting jaeger-client==3.13.0 (from seldon-core->-r requirements.txt (line 6))\n",
      "Build output: Downloading https://files.pythonhosted.org/packages/c8/a2/e9bd04cd660cbdffe0598173be068be23099fbd68e7a4a89b74440509130/jaeger-client-3.13.0.tar.gz (77kB)\n",
      "Build output: Collecting protobuf (from seldon-core->-r requirements.txt (line 6))\n",
      "Build output: Downloading https://files.pythonhosted.org/packages/eb/f4/a27952733796330cd17c17ea1f974459f5fefbbad119c0f296a6d807fec3/protobuf-3.9.1-cp36-cp36m-manylinux1_x86_64.whl (1.2MB)\n",
      "Build output: Collecting grpcio (from seldon-core->-r requirements.txt (line 6))\n",
      "Build output: Downloading https://files.pythonhosted.org/packages/30/31/6397193572c081e0fd1fec86a7a6b7ac497c27226281e7cb32f8c3705069/grpcio-1.23.0-cp36-cp36m-manylinux1_x86_64.whl (2.2MB)\n",
      "Build output: Collecting tensorflow (from seldon-core->-r requirements.txt (line 6))\n",
      "Build output: Downloading https://files.pythonhosted.org/packages/de/f0/96fb2e0412ae9692dbf400e5b04432885f677ad6241c088ccc5fe7724d69/tensorflow-1.14.0-cp36-cp36m-manylinux1_x86_64.whl (109.2MB)\n",
      "Build output: Collecting flatbuffers (from seldon-core->-r requirements.txt (line 6))\n",
      "Build output: Downloading https://files.pythonhosted.org/packages/c9/84/adf5837f96c39990bc55afdfddf460b38b4562f50341359afa32e4a98de7/flatbuffers-1.11-py2.py3-none-any.whl\n",
      "Build output: Collecting azure-storage-blob>=2.0.1 (from seldon-core->-r requirements.txt (line 6))\n"
     ]
    },
    {
     "name": "stderr",
     "output_type": "stream",
     "text": [
      "Build output: Downloading https://files.pythonhosted.org/packages/3e/84/610f379b46d7d3c2d48eadeed6a12b6d46a43100fea70534f5992d0ac996/azure_storage_blob-2.1.0-py2.py3-none-any.whl (88kB)\n",
      "Build output: Collecting flask (from seldon-core->-r requirements.txt (line 6))\n",
      "Build output: Downloading https://files.pythonhosted.org/packages/9b/93/628509b8d5dc749656a9641f4caf13540e2cdec85276964ff8f43bbb1d3b/Flask-1.1.1-py2.py3-none-any.whl (94kB)\n",
      "Build output: Collecting six>=1.5 (from python-dateutil>=2.6.1->pandas->-r requirements.txt (line 1))\n",
      "Build output: Downloading https://files.pythonhosted.org/packages/73/fb/00a976f728d0d1fecfe898238ce23f502a721c0ac0ecfedb80e0d88c64e9/six-1.12.0-py2.py3-none-any.whl\n",
      "Build output: Collecting google-cloud-core<2.0dev,>=1.0.3 (from google-cloud-storage>=1.16.0->seldon-core->-r requirements.txt (line 6))\n",
      "Build output: Downloading https://files.pythonhosted.org/packages/ee/f0/084f598629db8e6ec3627688723875cdb03637acb6d86999bb105a71df64/google_cloud_core-1.0.3-py2.py3-none-any.whl\n",
      "Build output: Collecting google-resumable-media>=0.3.1 (from google-cloud-storage>=1.16.0->seldon-core->-r requirements.txt (line 6))\n",
      "Build output: Downloading https://files.pythonhosted.org/packages/43/37/aa0cea2507f3a0ac5b3a0557272e07b1ec2802571408c4bd98699b08da09/google_resumable_media-0.3.3-py2.py3-none-any.whl\n",
      "Build output: Collecting google-auth>=1.2.0 (from google-cloud-storage>=1.16.0->seldon-core->-r requirements.txt (line 6))\n",
      "Build output: Downloading https://files.pythonhosted.org/packages/c5/9b/ed0516cc1f7609fb0217e3057ff4f0f9f3e3ce79a369c6af4a6c5ca25664/google_auth-1.6.3-py2.py3-none-any.whl (73kB)\n",
      "Build output: Collecting urllib3 (from minio>=4.0.9->seldon-core->-r requirements.txt (line 6))\n",
      "Build output: Downloading https://files.pythonhosted.org/packages/e6/60/247f23a7121ae632d62811ba7f273d0e58972d75e58a94d329d51550a47d/urllib3-1.25.3-py2.py3-none-any.whl (150kB)\n",
      "Build output: Collecting certifi (from minio>=4.0.9->seldon-core->-r requirements.txt (line 6))\n",
      "Build output: Downloading https://files.pythonhosted.org/packages/69/1b/b853c7a9d4f6a6d00749e94eb6f3a041e342a885b87340b79c1ef73e3a78/certifi-2019.6.16-py2.py3-none-any.whl (157kB)\n",
      "Build output: Collecting future (from minio>=4.0.9->seldon-core->-r requirements.txt (line 6))\n",
      "Build output: Downloading https://files.pythonhosted.org/packages/90/52/e20466b85000a181e1e144fd8305caf2cf475e2f9674e797b222f8105f5f/future-0.17.1.tar.gz (829kB)\n"
     ]
    }
   ],
   "source": [
    "from fairing import TrainJob\n",
    "train_job = TrainJob(HousingServe, input_files=['ames_dataset/train.csv', \"requirements.txt\"],\n",
    "                     docker_registry=DOCKER_REGISTRY,\n",
    "                     backend=BackendClass(build_context_source=BuildContext),\n",
    "                     pod_spec_mutators=pod_spec_mutators)\n",
    "train_job.submit()"
   ]
  },
  {
   "cell_type": "markdown",
   "metadata": {},
   "source": [
    "## Deploy the trained model to Kubeflow for predictions\n",
    "\n",
    "Import the `PredictionEndpoint` and use the configured backend class. Kubeflow Fairing packages the `HousingServe` class, the trained model, and the prediction endpoint's software prerequisites as a Docker image. Then Kubeflow Fairing deploys and runs the prediction endpoint on Kubeflow."
   ]
  },
  {
   "cell_type": "code",
   "execution_count": null,
   "metadata": {
    "scrolled": false
   },
   "outputs": [],
   "source": [
    "from fairing import PredictionEndpoint\n",
    "endpoint = PredictionEndpoint(HousingServe, input_files=['trained_ames_model.dat', \"requirements.txt\"],\n",
    "                              docker_registry=DOCKER_REGISTRY,\n",
    "                              backend=BackendClass(build_context_source=BuildContext))\n",
    "endpoint.create()"
   ]
  },
  {
   "cell_type": "markdown",
   "metadata": {},
   "source": [
    "## Call the prediction endpoint\n",
    "\n",
    "Create a test dataset, then call the endpoint on Kubeflow for predictions."
   ]
  },
  {
   "cell_type": "code",
   "execution_count": null,
   "metadata": {},
   "outputs": [],
   "source": [
    "(train_X, train_y), (test_X, test_y) = read_input(\"ames_dataset/train.csv\")\n",
    "endpoint.predict_nparray(test_X)\n"
   ]
  },
  {
   "cell_type": "markdown",
   "metadata": {},
   "source": [
    "## Clean up the prediction endpoint\n",
    "\n",
    "Delete the prediction endpoint created by this notebook."
   ]
  },
  {
   "cell_type": "code",
   "execution_count": null,
   "metadata": {},
   "outputs": [],
   "source": [
    "endpoint.delete()"
   ]
  }
 ],
 "metadata": {
  "celltoolbar": "Tags",
  "kernelspec": {
   "display_name": "Python 3",
   "language": "python",
   "name": "python3"
  },
  "language_info": {
   "codemirror_mode": {
    "name": "ipython",
    "version": 3
   },
   "file_extension": ".py",
   "mimetype": "text/x-python",
   "name": "python",
   "nbconvert_exporter": "python",
   "pygments_lexer": "ipython3",
   "version": "3.6.2"
  }
 },
 "nbformat": 4,
 "nbformat_minor": 2
}
